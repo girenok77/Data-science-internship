{
 "cells": [
  {
   "cell_type": "markdown",
   "metadata": {
    "collapsed": true
   },
   "source": [
    "# KNN"
   ]
  },
  {
   "cell_type": "code",
   "execution_count": 1,
   "metadata": {
    "collapsed": true
   },
   "outputs": [],
   "source": [
    "import numpy as np\n",
    "import pandas as pd\n",
    "import time\n",
    "from scipy.spatial.distance import euclidean\n",
    "from scipy import stats\n",
    "from matplotlib import pyplot as plt"
   ]
  },
  {
   "cell_type": "markdown",
   "metadata": {},
   "source": [
    "## Roadmap\n",
    "1. Calculate all distancies between known and unknown points\n",
    "2. Predict class of unknown point by the k nearest neighbours\n",
    "\n"
   ]
  },
  {
   "cell_type": "code",
   "execution_count": 2,
   "metadata": {
    "collapsed": true
   },
   "outputs": [],
   "source": [
    "def calc_all_distancies(data_x, unknown):\n",
    "    '''\n",
    "        Function calculates distancies between each pairs of known and unknown points\n",
    "    '''\n",
    "    num_pred = unknown.shape[0]\n",
    "    num_data = data_x.shape[0]\n",
    "    dists = np.zeros((num_pred,num_data))\n",
    "    for i in range(num_pred):\n",
    "        for j in range(num_data):\n",
    "            dists[i,j] = euclidean(unknown[i],data_x[j])\n",
    "    return dists"
   ]
  },
  {
   "cell_type": "code",
   "execution_count": 3,
   "metadata": {
    "collapsed": true
   },
   "outputs": [],
   "source": [
    "def predict(dists, data_y, k):\n",
    "    '''\n",
    "        Function predicts the class of the unknown point by the k nearest neighbours\n",
    "    '''\n",
    "    num_pred = dists.shape[0]\n",
    "    y_pred = np.zeros(num_pred)\n",
    "    for i in range(num_pred):\n",
    "        dst = dists[i]\n",
    "        ind_k = np.argsort(dst)[:k]\n",
    "        y_nearest = data_y[ind_k]\n",
    "        y_pred[i]= stats.mode(y_nearest,axis=None).mode\n",
    "    return y_pred"
   ]
  },
  {
   "cell_type": "code",
   "execution_count": null,
   "metadata": {
    "collapsed": true
   },
   "outputs": [],
   "source": []
  },
  {
   "cell_type": "code",
   "execution_count": 4,
   "metadata": {
    "collapsed": true
   },
   "outputs": [],
   "source": [
    "def accuracy(predicted,real):\n",
    "    '''\n",
    "        Calculates accuracy percentage\n",
    "    '''\n",
    "    print(real,predicted)\n",
    "    l = len(real)\n",
    "    s = sum(predicted==real)\n",
    "    return 100*s/l"
   ]
  },
  {
   "cell_type": "code",
   "execution_count": 5,
   "metadata": {
    "collapsed": true
   },
   "outputs": [],
   "source": [
    "def compare_k(data_x, data_y, test_x, test_y, kmin=1, kmax=50, kstep=4):\n",
    "    '''\n",
    "        Main comparing function\n",
    "    '''\n",
    "    k = list(range(kmin, kmax, kstep))\n",
    "    steps = len(k)\n",
    "    features = np.zeros((steps,3))\n",
    "    \n",
    "    print('Evaluating distancies started')\n",
    "    \n",
    "    t0 = time.time()\n",
    "    distancies = calc_all_distancies(data_x,test_x)\n",
    "    miss = []\n",
    "    t = time.time()\n",
    "    s1 = data_x.shape[0]\n",
    "    s2 = test_x.shape[0]\n",
    "    \n",
    "    print('Distancies completed in %d seconds for %dx%d' %(t-t0,s1,s2))\n",
    "    \n",
    "    for j in range(steps):\n",
    "        t0 = time.time()\n",
    "        yk = predict(distancies,data_y,k[j])\n",
    "        t = time.time() - t0\n",
    "        features[j][0] = k[j]\n",
    "        features[j][1] = accuracy(yk,test_y)\n",
    "        features[j][2] = t\n",
    "        cond = yk!=test_y\n",
    "        miss.append({\n",
    "            'k':k[j],\n",
    "            'acc':features[j][1],\n",
    "            'x':test_x[cond]}\n",
    "        )\n",
    "        \n",
    "        print('k={0}, accuracy = {1}%, time = {2} sec'.format(k[j],features[j][1],features[j][2]))\n",
    "        \n",
    "    return features, miss"
   ]
  },
  {
   "cell_type": "code",
   "execution_count": 17,
   "metadata": {},
   "outputs": [],
   "source": [
    "df = pd.read_csv('titanic.csv',header=0,usecols=['Survived','Fare','Age'])\n",
    "df= df.dropna(axis=0)\n",
    "# df['Age'] = (df['Age'] - df['Age'].mean()) / df['Age'].std()\n",
    "X=df.iloc[:,1:].values\n",
    "\n",
    "# for i in np.arange(X.shape[0]):\n",
    "#     if X[i,0]=='female':\n",
    "#         X[i,0]=0.\n",
    "#     else:\n",
    "#         X[i,0]=1.\n",
    "X = X.astype(np.float32)        \n",
    "Y=df.iloc[:,0].values\n"
   ]
  },
  {
   "cell_type": "code",
   "execution_count": 18,
   "metadata": {},
   "outputs": [],
   "source": [
    "# num_observations = 600\n",
    "# x1 = np.random.multivariate_normal([0, 0], [[1, .75], [.75, 1]], num_observations)\n",
    "# x2 = np.random.multivariate_normal([-2, 3], [[2, .75], [.75, 2]], num_observations)\n",
    "\n",
    "\n",
    "# X = np.vstack((x1, x2)).astype(np.float32)\n",
    "# Y = np.hstack((np.zeros(num_observations),\n",
    "#                np.ones(num_observations)))\n",
    "\n",
    "# print(X.shape,Y.shape)\n"
   ]
  },
  {
   "cell_type": "markdown",
   "metadata": {},
   "source": [
    "## Select some part of data to be tested"
   ]
  },
  {
   "cell_type": "code",
   "execution_count": 19,
   "metadata": {},
   "outputs": [],
   "source": [
    "\n",
    "ratio=0.67\n",
    "l = len(X)\n",
    "n_trn = int(ratio*l)\n",
    "ind = np.random.permutation(l)\n",
    "X = X[ind]\n",
    "Y = Y[ind]\n",
    "\n",
    "x_trn = X[:n_trn] \n",
    "y_trn = Y[:n_trn]\n",
    "x_tst = X[n_trn:]\n",
    "y_tst = Y[n_trn:]\n"
   ]
  },
  {
   "cell_type": "code",
   "execution_count": 20,
   "metadata": {},
   "outputs": [
    {
     "name": "stdout",
     "output_type": "stream",
     "text": [
      "X (478, 2) (236, 2)\n",
      "Y (478,) (236,)\n"
     ]
    }
   ],
   "source": [
    "print('X',x_trn.shape,x_tst.shape)\n",
    "print('Y',y_trn.shape,y_tst.shape)"
   ]
  },
  {
   "cell_type": "markdown",
   "metadata": {},
   "source": [
    "## Calculate distancies & compare result for different k"
   ]
  },
  {
   "cell_type": "code",
   "execution_count": 21,
   "metadata": {},
   "outputs": [
    {
     "name": "stdout",
     "output_type": "stream",
     "text": [
      "Evaluating distancies started\n",
      "Distancies completed in 4 seconds for 478x236\n",
      "[0 0 0 0 0 1 0 1 1 1 0 0 1 0 1 0 1 0 0 0 1 1 0 0 1 1 0 1 1 0 0 0 1 0 0 0 0\n",
      " 0 0 1 0 1 0 0 0 0 0 1 1 0 0 0 1 0 0 0 1 0 0 1 1 1 0 0 1 0 0 0 1 0 0 0 0 1\n",
      " 1 0 1 0 1 1 0 0 0 1 1 0 0 0 1 0 1 0 1 1 0 1 0 0 1 0 0 1 0 1 0 1 1 0 1 0 0\n",
      " 1 1 0 0 0 0 0 0 1 0 1 0 1 0 0 1 0 0 0 1 0 0 0 0 1 1 1 1 0 0 0 0 0 0 0 0 0\n",
      " 0 1 1 1 0 0 0 1 0 0 1 0 0 0 1 1 0 1 1 0 0 0 0 1 0 0 1 0 0 1 1 1 0 0 0 1 1\n",
      " 0 0 1 1 1 0 0 0 1 0 0 1 0 1 0 1 1 0 0 1 0 1 0 0 1 0 1 0 1 0 1 0 0 1 1 1 0\n",
      " 0 1 1 0 0 1 0 0 1 0 1 1 1 0] [ 0.  0.  0.  0.  1.  1.  1.  1.  1.  1.  0.  0.  0.  0.  1.  0.  1.  0.\n",
      "  0.  1.  1.  1.  0.  1.  1.  1.  0.  0.  0.  1.  0.  0.  1.  0.  0.  0.\n",
      "  0.  0.  1.  1.  1.  1.  1.  0.  0.  0.  0.  1.  0.  1.  0.  0.  1.  1.\n",
      "  0.  1.  0.  1.  0.  0.  0.  0.  1.  1.  0.  0.  0.  0.  0.  0.  1.  0.\n",
      "  0.  0.  0.  0.  0.  0.  1.  0.  0.  0.  1.  1.  0.  1.  0.  1.  1.  0.\n",
      "  1.  0.  0.  1.  1.  0.  1.  0.  1.  0.  0.  0.  1.  0.  1.  1.  0.  0.\n",
      "  1.  0.  0.  0.  1.  0.  0.  1.  1.  0.  0.  1.  0.  0.  0.  1.  0.  0.\n",
      "  1.  1.  0.  0.  0.  1.  1.  1.  0.  0.  1.  0.  0.  0.  0.  0.  0.  0.\n",
      "  1.  1.  0.  0.  0.  0.  1.  1.  0.  1.  0.  1.  1.  0.  0.  0.  0.  1.\n",
      "  0.  0.  0.  0.  1.  0.  0.  0.  0.  0.  1.  0.  0.  1.  1.  1.  1.  0.\n",
      "  0.  0.  1.  1.  0.  0.  0.  0.  1.  0.  0.  0.  0.  1.  0.  0.  1.  1.\n",
      "  1.  0.  1.  1.  1.  0.  0.  0.  1.  0.  0.  0.  1.  1.  0.  1.  0.  1.\n",
      "  0.  0.  1.  0.  1.  0.  0.  0.  1.  0.  0.  1.  1.  1.  1.  1.  0.  1.\n",
      "  1.  0.]\n",
      "k=1, accuracy = 63.983050847457626%, time = 0.04800224304199219 sec\n",
      "[0 0 0 0 0 1 0 1 1 1 0 0 1 0 1 0 1 0 0 0 1 1 0 0 1 1 0 1 1 0 0 0 1 0 0 0 0\n",
      " 0 0 1 0 1 0 0 0 0 0 1 1 0 0 0 1 0 0 0 1 0 0 1 1 1 0 0 1 0 0 0 1 0 0 0 0 1\n",
      " 1 0 1 0 1 1 0 0 0 1 1 0 0 0 1 0 1 0 1 1 0 1 0 0 1 0 0 1 0 1 0 1 1 0 1 0 0\n",
      " 1 1 0 0 0 0 0 0 1 0 1 0 1 0 0 1 0 0 0 1 0 0 0 0 1 1 1 1 0 0 0 0 0 0 0 0 0\n",
      " 0 1 1 1 0 0 0 1 0 0 1 0 0 0 1 1 0 1 1 0 0 0 0 1 0 0 1 0 0 1 1 1 0 0 0 1 1\n",
      " 0 0 1 1 1 0 0 0 1 0 0 1 0 1 0 1 1 0 0 1 0 1 0 0 1 0 1 0 1 0 1 0 0 1 1 1 0\n",
      " 0 1 1 0 0 1 0 0 1 0 1 1 1 0] [ 0.  0.  0.  0.  0.  0.  0.  1.  1.  1.  0.  0.  0.  0.  0.  0.  1.  0.\n",
      "  0.  0.  0.  1.  0.  1.  1.  1.  0.  0.  0.  0.  0.  0.  1.  0.  0.  0.\n",
      "  0.  0.  0.  1.  1.  1.  0.  0.  0.  0.  0.  1.  1.  0.  0.  0.  1.  0.\n",
      "  1.  1.  0.  0.  0.  0.  0.  0.  0.  1.  0.  0.  0.  0.  0.  1.  1.  0.\n",
      "  0.  1.  1.  0.  0.  0.  1.  1.  0.  0.  1.  1.  0.  1.  0.  0.  1.  0.\n",
      "  1.  1.  0.  1.  0.  0.  1.  0.  0.  0.  0.  1.  0.  0.  0.  1.  1.  0.\n",
      "  1.  0.  0.  0.  0.  0.  0.  1.  0.  1.  1.  1.  1.  0.  0.  1.  0.  0.\n",
      "  1.  1.  0.  0.  0.  1.  1.  0.  0.  1.  0.  0.  0.  0.  0.  0.  0.  0.\n",
      "  0.  1.  0.  0.  0.  0.  1.  1.  0.  1.  0.  1.  0.  0.  0.  0.  0.  1.\n",
      "  1.  0.  0.  0.  0.  0.  0.  0.  0.  0.  0.  0.  0.  0.  1.  1.  0.  0.\n",
      "  0.  0.  0.  1.  0.  0.  0.  0.  1.  1.  0.  0.  1.  0.  0.  0.  1.  1.\n",
      "  1.  0.  1.  0.  1.  0.  0.  0.  1.  0.  0.  0.  0.  0.  0.  1.  0.  0.\n",
      "  0.  0.  0.  0.  0.  0.  0.  1.  1.  0.  0.  1.  0.  1.  1.  1.  0.  0.\n",
      "  1.  0.]\n",
      "k=21, accuracy = 68.64406779661017%, time = 0.05300307273864746 sec\n",
      "[0 0 0 0 0 1 0 1 1 1 0 0 1 0 1 0 1 0 0 0 1 1 0 0 1 1 0 1 1 0 0 0 1 0 0 0 0\n",
      " 0 0 1 0 1 0 0 0 0 0 1 1 0 0 0 1 0 0 0 1 0 0 1 1 1 0 0 1 0 0 0 1 0 0 0 0 1\n",
      " 1 0 1 0 1 1 0 0 0 1 1 0 0 0 1 0 1 0 1 1 0 1 0 0 1 0 0 1 0 1 0 1 1 0 1 0 0\n",
      " 1 1 0 0 0 0 0 0 1 0 1 0 1 0 0 1 0 0 0 1 0 0 0 0 1 1 1 1 0 0 0 0 0 0 0 0 0\n",
      " 0 1 1 1 0 0 0 1 0 0 1 0 0 0 1 1 0 1 1 0 0 0 0 1 0 0 1 0 0 1 1 1 0 0 0 1 1\n",
      " 0 0 1 1 1 0 0 0 1 0 0 1 0 1 0 1 1 0 0 1 0 1 0 0 1 0 1 0 1 0 1 0 0 1 1 1 0\n",
      " 0 1 1 0 0 1 0 0 1 0 1 1 1 0] [ 0.  0.  0.  0.  0.  0.  0.  1.  1.  1.  0.  0.  0.  0.  0.  0.  1.  0.\n",
      "  0.  0.  0.  1.  1.  1.  1.  1.  0.  0.  0.  0.  1.  0.  1.  0.  0.  0.\n",
      "  0.  0.  0.  1.  1.  1.  0.  0.  0.  0.  0.  1.  1.  0.  0.  0.  1.  0.\n",
      "  1.  1.  0.  0.  0.  0.  0.  0.  0.  1.  0.  0.  0.  0.  0.  1.  0.  0.\n",
      "  1.  1.  1.  0.  0.  0.  1.  1.  0.  0.  1.  1.  0.  1.  0.  0.  1.  0.\n",
      "  0.  1.  1.  1.  0.  0.  1.  0.  0.  0.  0.  1.  0.  0.  0.  1.  1.  0.\n",
      "  1.  0.  0.  0.  0.  0.  0.  1.  0.  1.  1.  1.  1.  0.  0.  1.  0.  0.\n",
      "  1.  0.  0.  0.  0.  1.  0.  0.  0.  1.  0.  0.  0.  0.  0.  0.  0.  0.\n",
      "  0.  1.  0.  1.  0.  0.  1.  1.  0.  1.  0.  1.  0.  0.  0.  0.  0.  1.\n",
      "  1.  0.  0.  0.  0.  0.  0.  0.  0.  0.  0.  0.  0.  0.  0.  1.  0.  0.\n",
      "  0.  0.  0.  1.  0.  0.  0.  0.  1.  1.  0.  0.  1.  0.  0.  0.  1.  1.\n",
      "  1.  0.  1.  1.  1.  0.  0.  0.  1.  0.  0.  0.  0.  0.  0.  1.  0.  0.\n",
      "  0.  0.  0.  0.  0.  0.  0.  1.  1.  0.  0.  1.  0.  1.  1.  1.  0.  0.\n",
      "  1.  0.]\n",
      "k=41, accuracy = 69.0677966101695%, time = 0.052002906799316406 sec\n",
      "[0 0 0 0 0 1 0 1 1 1 0 0 1 0 1 0 1 0 0 0 1 1 0 0 1 1 0 1 1 0 0 0 1 0 0 0 0\n",
      " 0 0 1 0 1 0 0 0 0 0 1 1 0 0 0 1 0 0 0 1 0 0 1 1 1 0 0 1 0 0 0 1 0 0 0 0 1\n",
      " 1 0 1 0 1 1 0 0 0 1 1 0 0 0 1 0 1 0 1 1 0 1 0 0 1 0 0 1 0 1 0 1 1 0 1 0 0\n",
      " 1 1 0 0 0 0 0 0 1 0 1 0 1 0 0 1 0 0 0 1 0 0 0 0 1 1 1 1 0 0 0 0 0 0 0 0 0\n",
      " 0 1 1 1 0 0 0 1 0 0 1 0 0 0 1 1 0 1 1 0 0 0 0 1 0 0 1 0 0 1 1 1 0 0 0 1 1\n",
      " 0 0 1 1 1 0 0 0 1 0 0 1 0 1 0 1 1 0 0 1 0 1 0 0 1 0 1 0 1 0 1 0 0 1 1 1 0\n",
      " 0 1 1 0 0 1 0 0 1 0 1 1 1 0] [ 0.  0.  0.  0.  0.  1.  0.  1.  1.  0.  0.  0.  1.  1.  0.  0.  1.  0.\n",
      "  0.  0.  0.  1.  0.  1.  1.  1.  0.  0.  0.  0.  1.  0.  1.  1.  0.  0.\n",
      "  0.  0.  0.  1.  0.  0.  1.  0.  0.  0.  0.  1.  1.  0.  0.  0.  1.  0.\n",
      "  1.  0.  0.  0.  0.  0.  0.  0.  0.  1.  0.  0.  0.  0.  0.  1.  0.  0.\n",
      "  1.  1.  1.  0.  0.  0.  1.  1.  0.  0.  1.  0.  0.  1.  0.  0.  1.  0.\n",
      "  1.  1.  1.  1.  0.  1.  1.  0.  0.  0.  0.  0.  0.  0.  0.  1.  1.  0.\n",
      "  1.  0.  0.  0.  0.  0.  1.  1.  0.  1.  1.  1.  1.  0.  0.  1.  0.  0.\n",
      "  1.  0.  0.  0.  0.  0.  1.  0.  0.  0.  0.  1.  0.  0.  0.  0.  0.  0.\n",
      "  0.  1.  0.  1.  0.  0.  1.  1.  0.  1.  0.  1.  0.  0.  0.  0.  1.  1.\n",
      "  1.  0.  0.  0.  0.  0.  0.  0.  0.  0.  0.  0.  0.  0.  0.  1.  0.  0.\n",
      "  0.  0.  0.  1.  0.  0.  0.  0.  0.  1.  0.  0.  1.  0.  1.  0.  1.  0.\n",
      "  0.  0.  0.  1.  1.  0.  0.  0.  1.  0.  0.  0.  0.  0.  0.  1.  0.  0.\n",
      "  0.  0.  0.  0.  0.  0.  0.  1.  1.  0.  0.  1.  0.  1.  1.  0.  1.  0.\n",
      "  1.  0.]\n",
      "k=61, accuracy = 67.79661016949153%, time = 0.059003353118896484 sec\n",
      "[0 0 0 0 0 1 0 1 1 1 0 0 1 0 1 0 1 0 0 0 1 1 0 0 1 1 0 1 1 0 0 0 1 0 0 0 0\n",
      " 0 0 1 0 1 0 0 0 0 0 1 1 0 0 0 1 0 0 0 1 0 0 1 1 1 0 0 1 0 0 0 1 0 0 0 0 1\n",
      " 1 0 1 0 1 1 0 0 0 1 1 0 0 0 1 0 1 0 1 1 0 1 0 0 1 0 0 1 0 1 0 1 1 0 1 0 0\n",
      " 1 1 0 0 0 0 0 0 1 0 1 0 1 0 0 1 0 0 0 1 0 0 0 0 1 1 1 1 0 0 0 0 0 0 0 0 0\n",
      " 0 1 1 1 0 0 0 1 0 0 1 0 0 0 1 1 0 1 1 0 0 0 0 1 0 0 1 0 0 1 1 1 0 0 0 1 1\n",
      " 0 0 1 1 1 0 0 0 1 0 0 1 0 1 0 1 1 0 0 1 0 1 0 0 1 0 1 0 1 0 1 0 0 1 1 1 0\n",
      " 0 1 1 0 0 1 0 0 1 0 1 1 1 0] [ 0.  0.  0.  0.  0.  1.  0.  1.  1.  0.  0.  0.  1.  1.  1.  0.  1.  0.\n",
      "  0.  0.  0.  1.  1.  1.  1.  1.  0.  0.  0.  0.  1.  0.  1.  1.  0.  0.\n",
      "  0.  0.  0.  1.  0.  0.  1.  0.  1.  0.  0.  1.  1.  0.  0.  0.  1.  0.\n",
      "  0.  1.  0.  0.  0.  0.  0.  0.  0.  1.  0.  0.  0.  0.  1.  1.  1.  0.\n",
      "  1.  1.  1.  0.  0.  0.  0.  1.  0.  0.  1.  0.  0.  1.  0.  0.  1.  0.\n",
      "  1.  0.  1.  1.  0.  1.  1.  0.  0.  0.  0.  1.  0.  0.  0.  1.  1.  0.\n",
      "  1.  0.  0.  0.  0.  0.  1.  0.  0.  1.  1.  0.  1.  0.  0.  1.  0.  0.\n",
      "  1.  0.  0.  0.  0.  1.  1.  0.  0.  0.  0.  0.  0.  0.  0.  0.  0.  0.\n",
      "  0.  0.  0.  1.  0.  0.  1.  1.  0.  1.  0.  1.  0.  0.  0.  0.  1.  1.\n",
      "  1.  0.  0.  0.  0.  0.  0.  0.  0.  0.  0.  0.  0.  0.  0.  1.  0.  0.\n",
      "  0.  0.  0.  1.  0.  0.  0.  0.  0.  1.  0.  0.  1.  0.  0.  0.  1.  0.\n",
      "  0.  0.  0.  1.  1.  0.  0.  0.  0.  0.  0.  0.  0.  0.  0.  0.  0.  0.\n",
      "  0.  0.  0.  0.  0.  0.  0.  1.  1.  0.  0.  1.  0.  1.  1.  0.  1.  0.\n",
      "  0.  0.]\n",
      "k=81, accuracy = 66.52542372881356%, time = 0.04300212860107422 sec\n",
      "[0 0 0 0 0 1 0 1 1 1 0 0 1 0 1 0 1 0 0 0 1 1 0 0 1 1 0 1 1 0 0 0 1 0 0 0 0\n",
      " 0 0 1 0 1 0 0 0 0 0 1 1 0 0 0 1 0 0 0 1 0 0 1 1 1 0 0 1 0 0 0 1 0 0 0 0 1\n",
      " 1 0 1 0 1 1 0 0 0 1 1 0 0 0 1 0 1 0 1 1 0 1 0 0 1 0 0 1 0 1 0 1 1 0 1 0 0\n",
      " 1 1 0 0 0 0 0 0 1 0 1 0 1 0 0 1 0 0 0 1 0 0 0 0 1 1 1 1 0 0 0 0 0 0 0 0 0\n",
      " 0 1 1 1 0 0 0 1 0 0 1 0 0 0 1 1 0 1 1 0 0 0 0 1 0 0 1 0 0 1 1 1 0 0 0 1 1\n",
      " 0 0 1 1 1 0 0 0 1 0 0 1 0 1 0 1 1 0 0 1 0 1 0 0 1 0 1 0 1 0 1 0 0 1 1 1 0\n",
      " 0 1 1 0 0 1 0 0 1 0 1 1 1 0] [ 0.  0.  0.  0.  0.  1.  0.  1.  1.  0.  0.  0.  1.  1.  0.  0.  1.  0.\n",
      "  0.  0.  0.  1.  1.  1.  1.  1.  0.  0.  0.  0.  1.  0.  1.  1.  0.  0.\n",
      "  0.  0.  0.  1.  0.  0.  1.  0.  1.  0.  0.  1.  1.  0.  0.  0.  1.  0.\n",
      "  0.  1.  0.  0.  0.  0.  0.  0.  0.  1.  0.  0.  0.  0.  1.  1.  0.  0.\n",
      "  1.  1.  1.  0.  0.  0.  0.  1.  0.  0.  1.  0.  0.  1.  0.  0.  1.  0.\n",
      "  1.  0.  1.  1.  0.  1.  1.  0.  0.  0.  0.  1.  0.  0.  0.  1.  1.  0.\n",
      "  1.  0.  0.  0.  0.  0.  1.  0.  0.  1.  1.  0.  0.  0.  0.  1.  0.  0.\n",
      "  1.  0.  0.  0.  0.  0.  0.  0.  0.  0.  0.  0.  0.  0.  0.  0.  0.  0.\n",
      "  0.  0.  0.  1.  0.  0.  1.  1.  0.  1.  0.  1.  0.  0.  0.  0.  1.  1.\n",
      "  1.  0.  0.  0.  0.  0.  0.  0.  0.  0.  0.  0.  0.  0.  0.  1.  0.  0.\n",
      "  0.  0.  0.  1.  0.  0.  0.  0.  0.  1.  0.  0.  1.  0.  1.  0.  1.  0.\n",
      "  0.  0.  0.  1.  0.  0.  0.  0.  0.  0.  0.  0.  0.  0.  0.  0.  0.  0.\n",
      "  0.  0.  0.  0.  0.  0.  0.  1.  1.  0.  0.  1.  0.  1.  1.  0.  1.  0.\n",
      "  0.  0.]\n",
      "k=101, accuracy = 67.79661016949153%, time = 0.05000019073486328 sec\n",
      "[0 0 0 0 0 1 0 1 1 1 0 0 1 0 1 0 1 0 0 0 1 1 0 0 1 1 0 1 1 0 0 0 1 0 0 0 0\n",
      " 0 0 1 0 1 0 0 0 0 0 1 1 0 0 0 1 0 0 0 1 0 0 1 1 1 0 0 1 0 0 0 1 0 0 0 0 1\n",
      " 1 0 1 0 1 1 0 0 0 1 1 0 0 0 1 0 1 0 1 1 0 1 0 0 1 0 0 1 0 1 0 1 1 0 1 0 0\n",
      " 1 1 0 0 0 0 0 0 1 0 1 0 1 0 0 1 0 0 0 1 0 0 0 0 1 1 1 1 0 0 0 0 0 0 0 0 0\n",
      " 0 1 1 1 0 0 0 1 0 0 1 0 0 0 1 1 0 1 1 0 0 0 0 1 0 0 1 0 0 1 1 1 0 0 0 1 1\n",
      " 0 0 1 1 1 0 0 0 1 0 0 1 0 1 0 1 1 0 0 1 0 1 0 0 1 0 1 0 1 0 1 0 0 1 1 1 0\n",
      " 0 1 1 0 0 1 0 0 1 0 1 1 1 0] [ 0.  0.  0.  0.  0.  1.  0.  0.  1.  0.  0.  0.  1.  1.  0.  0.  1.  0.\n",
      "  0.  0.  0.  0.  0.  1.  1.  1.  0.  0.  0.  0.  1.  0.  1.  0.  0.  0.\n",
      "  0.  0.  0.  1.  0.  0.  0.  0.  1.  0.  0.  1.  1.  0.  0.  0.  1.  0.\n",
      "  0.  1.  0.  0.  0.  0.  0.  0.  0.  1.  0.  0.  0.  0.  1.  0.  0.  0.\n",
      "  1.  1.  1.  0.  0.  0.  0.  1.  0.  0.  1.  0.  0.  1.  0.  0.  1.  0.\n",
      "  1.  0.  1.  1.  0.  0.  1.  0.  0.  0.  0.  1.  0.  0.  0.  1.  0.  0.\n",
      "  1.  0.  0.  0.  0.  0.  1.  0.  0.  1.  1.  0.  0.  0.  0.  1.  0.  0.\n",
      "  1.  0.  0.  0.  0.  0.  0.  0.  0.  0.  0.  0.  0.  0.  0.  0.  0.  0.\n",
      "  0.  0.  0.  0.  0.  0.  1.  1.  0.  1.  0.  1.  0.  0.  0.  0.  0.  0.\n",
      "  1.  0.  0.  0.  0.  0.  0.  1.  0.  0.  0.  0.  0.  0.  0.  1.  0.  0.\n",
      "  0.  0.  0.  1.  0.  0.  0.  0.  0.  1.  0.  0.  1.  0.  0.  0.  1.  0.\n",
      "  0.  0.  0.  0.  0.  0.  1.  0.  0.  0.  0.  0.  0.  0.  0.  0.  0.  0.\n",
      "  0.  0.  0.  0.  0.  0.  0.  1.  1.  0.  0.  1.  0.  1.  1.  0.  1.  0.\n",
      "  0.  0.]\n",
      "k=121, accuracy = 69.0677966101695%, time = 0.04999995231628418 sec\n"
     ]
    },
    {
     "name": "stdout",
     "output_type": "stream",
     "text": [
      "[0 0 0 0 0 1 0 1 1 1 0 0 1 0 1 0 1 0 0 0 1 1 0 0 1 1 0 1 1 0 0 0 1 0 0 0 0\n",
      " 0 0 1 0 1 0 0 0 0 0 1 1 0 0 0 1 0 0 0 1 0 0 1 1 1 0 0 1 0 0 0 1 0 0 0 0 1\n",
      " 1 0 1 0 1 1 0 0 0 1 1 0 0 0 1 0 1 0 1 1 0 1 0 0 1 0 0 1 0 1 0 1 1 0 1 0 0\n",
      " 1 1 0 0 0 0 0 0 1 0 1 0 1 0 0 1 0 0 0 1 0 0 0 0 1 1 1 1 0 0 0 0 0 0 0 0 0\n",
      " 0 1 1 1 0 0 0 1 0 0 1 0 0 0 1 1 0 1 1 0 0 0 0 1 0 0 1 0 0 1 1 1 0 0 0 1 1\n",
      " 0 0 1 1 1 0 0 0 1 0 0 1 0 1 0 1 1 0 0 1 0 1 0 0 1 0 1 0 1 0 1 0 0 1 1 1 0\n",
      " 0 1 1 0 0 1 0 0 1 0 1 1 1 0] [ 0.  0.  0.  0.  0.  1.  0.  0.  1.  0.  0.  0.  1.  1.  0.  0.  1.  0.\n",
      "  0.  0.  0.  0.  0.  1.  1.  1.  0.  0.  0.  0.  0.  0.  1.  0.  0.  0.\n",
      "  0.  0.  0.  1.  0.  0.  0.  0.  1.  0.  0.  1.  1.  0.  0.  0.  1.  0.\n",
      "  0.  1.  0.  0.  0.  0.  0.  0.  0.  1.  0.  0.  0.  0.  1.  1.  0.  0.\n",
      "  0.  1.  1.  0.  0.  0.  0.  1.  0.  0.  1.  0.  0.  1.  0.  0.  1.  0.\n",
      "  1.  0.  0.  1.  0.  0.  1.  0.  0.  0.  0.  1.  0.  0.  0.  1.  0.  0.\n",
      "  1.  0.  0.  0.  0.  0.  1.  0.  0.  1.  1.  0.  0.  0.  0.  1.  0.  0.\n",
      "  1.  0.  0.  0.  0.  0.  0.  0.  0.  0.  0.  0.  0.  0.  0.  0.  0.  0.\n",
      "  0.  0.  0.  0.  0.  0.  1.  1.  0.  1.  0.  1.  0.  0.  0.  0.  0.  0.\n",
      "  1.  0.  0.  0.  0.  0.  0.  1.  0.  0.  0.  0.  0.  0.  0.  1.  0.  0.\n",
      "  0.  0.  0.  1.  0.  0.  0.  0.  0.  1.  0.  0.  1.  0.  0.  0.  1.  0.\n",
      "  0.  0.  0.  0.  0.  0.  1.  0.  0.  0.  0.  0.  0.  0.  0.  0.  0.  0.\n",
      "  0.  0.  0.  0.  0.  0.  0.  1.  0.  0.  0.  1.  0.  1.  1.  0.  1.  0.\n",
      "  0.  0.]\n",
      "k=141, accuracy = 68.64406779661017%, time = 0.0540003776550293 sec\n",
      "[0 0 0 0 0 1 0 1 1 1 0 0 1 0 1 0 1 0 0 0 1 1 0 0 1 1 0 1 1 0 0 0 1 0 0 0 0\n",
      " 0 0 1 0 1 0 0 0 0 0 1 1 0 0 0 1 0 0 0 1 0 0 1 1 1 0 0 1 0 0 0 1 0 0 0 0 1\n",
      " 1 0 1 0 1 1 0 0 0 1 1 0 0 0 1 0 1 0 1 1 0 1 0 0 1 0 0 1 0 1 0 1 1 0 1 0 0\n",
      " 1 1 0 0 0 0 0 0 1 0 1 0 1 0 0 1 0 0 0 1 0 0 0 0 1 1 1 1 0 0 0 0 0 0 0 0 0\n",
      " 0 1 1 1 0 0 0 1 0 0 1 0 0 0 1 1 0 1 1 0 0 0 0 1 0 0 1 0 0 1 1 1 0 0 0 1 1\n",
      " 0 0 1 1 1 0 0 0 1 0 0 1 0 1 0 1 1 0 0 1 0 1 0 0 1 0 1 0 1 0 1 0 0 1 1 1 0\n",
      " 0 1 1 0 0 1 0 0 1 0 1 1 1 0] [ 0.  0.  0.  0.  0.  0.  0.  0.  1.  0.  0.  0.  0.  0.  0.  0.  1.  0.\n",
      "  0.  0.  0.  0.  0.  1.  1.  1.  0.  0.  0.  0.  0.  0.  1.  0.  0.  0.\n",
      "  0.  0.  0.  1.  0.  0.  0.  0.  0.  0.  0.  1.  1.  0.  0.  0.  1.  0.\n",
      "  0.  1.  0.  0.  0.  0.  0.  0.  0.  1.  0.  0.  0.  0.  0.  0.  0.  0.\n",
      "  1.  1.  1.  0.  0.  0.  0.  1.  0.  0.  1.  0.  0.  1.  0.  0.  1.  0.\n",
      "  1.  0.  0.  1.  0.  0.  1.  0.  0.  0.  0.  1.  0.  0.  0.  1.  0.  0.\n",
      "  1.  0.  0.  0.  0.  0.  1.  0.  0.  1.  1.  0.  0.  0.  0.  1.  0.  0.\n",
      "  1.  0.  0.  0.  0.  0.  0.  0.  0.  0.  0.  0.  0.  0.  0.  0.  0.  0.\n",
      "  0.  0.  0.  0.  0.  0.  1.  1.  0.  1.  0.  1.  0.  0.  0.  0.  0.  0.\n",
      "  1.  0.  0.  0.  0.  0.  0.  0.  0.  0.  0.  0.  0.  0.  0.  1.  0.  0.\n",
      "  0.  0.  0.  1.  0.  0.  0.  0.  0.  1.  0.  0.  1.  0.  0.  0.  1.  0.\n",
      "  0.  0.  0.  0.  0.  0.  0.  0.  0.  0.  0.  0.  0.  0.  0.  0.  0.  0.\n",
      "  0.  0.  0.  0.  0.  0.  0.  1.  0.  0.  0.  1.  0.  1.  1.  0.  1.  0.\n",
      "  0.  0.]\n",
      "k=161, accuracy = 68.22033898305085%, time = 0.06000351905822754 sec\n",
      "[0 0 0 0 0 1 0 1 1 1 0 0 1 0 1 0 1 0 0 0 1 1 0 0 1 1 0 1 1 0 0 0 1 0 0 0 0\n",
      " 0 0 1 0 1 0 0 0 0 0 1 1 0 0 0 1 0 0 0 1 0 0 1 1 1 0 0 1 0 0 0 1 0 0 0 0 1\n",
      " 1 0 1 0 1 1 0 0 0 1 1 0 0 0 1 0 1 0 1 1 0 1 0 0 1 0 0 1 0 1 0 1 1 0 1 0 0\n",
      " 1 1 0 0 0 0 0 0 1 0 1 0 1 0 0 1 0 0 0 1 0 0 0 0 1 1 1 1 0 0 0 0 0 0 0 0 0\n",
      " 0 1 1 1 0 0 0 1 0 0 1 0 0 0 1 1 0 1 1 0 0 0 0 1 0 0 1 0 0 1 1 1 0 0 0 1 1\n",
      " 0 0 1 1 1 0 0 0 1 0 0 1 0 1 0 1 1 0 0 1 0 1 0 0 1 0 1 0 1 0 1 0 0 1 1 1 0\n",
      " 0 1 1 0 0 1 0 0 1 0 1 1 1 0] [ 0.  0.  0.  0.  0.  0.  0.  0.  1.  0.  0.  0.  0.  0.  0.  0.  1.  0.\n",
      "  0.  0.  0.  0.  0.  1.  1.  1.  0.  0.  0.  0.  0.  0.  1.  0.  0.  0.\n",
      "  0.  0.  0.  1.  0.  0.  0.  0.  0.  0.  0.  1.  1.  0.  0.  0.  1.  0.\n",
      "  0.  0.  0.  0.  0.  0.  0.  0.  0.  1.  0.  0.  0.  0.  0.  0.  0.  0.\n",
      "  0.  1.  1.  0.  0.  0.  0.  1.  0.  0.  1.  0.  0.  1.  0.  0.  1.  0.\n",
      "  1.  0.  0.  1.  0.  0.  1.  0.  0.  0.  0.  1.  0.  0.  0.  1.  0.  0.\n",
      "  1.  0.  0.  0.  0.  0.  0.  0.  0.  1.  0.  0.  0.  0.  0.  1.  0.  0.\n",
      "  1.  0.  0.  0.  0.  0.  0.  0.  0.  0.  0.  0.  0.  0.  0.  0.  0.  0.\n",
      "  0.  0.  0.  0.  0.  0.  1.  1.  0.  1.  0.  1.  0.  0.  0.  0.  0.  0.\n",
      "  1.  0.  0.  0.  0.  0.  0.  0.  0.  0.  0.  0.  0.  0.  0.  1.  0.  0.\n",
      "  0.  0.  0.  1.  0.  0.  0.  0.  0.  1.  0.  0.  1.  0.  0.  0.  1.  0.\n",
      "  0.  0.  0.  0.  0.  0.  0.  0.  0.  0.  0.  0.  0.  0.  0.  0.  0.  0.\n",
      "  0.  0.  0.  0.  0.  0.  0.  1.  0.  0.  0.  0.  0.  1.  1.  0.  0.  0.\n",
      "  0.  0.]\n",
      "k=181, accuracy = 69.0677966101695%, time = 0.05200314521789551 sec\n"
     ]
    }
   ],
   "source": [
    "res, ms = compare_k(x_trn, y_trn, x_tst, y_tst,1,201,20)"
   ]
  },
  {
   "cell_type": "markdown",
   "metadata": {},
   "source": [
    "## Visualisation"
   ]
  },
  {
   "cell_type": "code",
   "execution_count": 25,
   "metadata": {},
   "outputs": [
    {
     "name": "stdout",
     "output_type": "stream",
     "text": [
      "714\n"
     ]
    },
    {
     "data": {
      "image/png": "[encoded data removed]",
      "text/plain": [
       "<matplotlib.figure.Figure at 0xc0ac9e8>"
      ]
     },
     "metadata": {},
     "output_type": "display_data"
    },
    {
     "data": {
      "image/png": "[encoded data removed]",
      "text/plain": [
       "<matplotlib.figure.Figure at 0xc17c4a8>"
      ]
     },
     "metadata": {},
     "output_type": "display_data"
    },
    {
     "data": {
      "image/png": "[encoded data removed]",
      "text/plain": [
       "<matplotlib.figure.Figure at 0xc1c2e48>"
      ]
     },
     "metadata": {},
     "output_type": "display_data"
    }
   ],
   "source": [
    "# initial data\n",
    "fig = plt.figure()\n",
    "print(Y.shape[0])\n",
    "survive_count = 0\n",
    "for k in np.arange(Y.shape[0]):\n",
    "    if Y[k]==1:\n",
    "        survive_count +=1\n",
    "        \n",
    "x1=np.zeros((survive_count,2))\n",
    "x2=np.zeros((Y.shape[0]-survive_count,2))\n",
    "count_x1 = 0\n",
    "count_x2 = 0\n",
    "for i in np.arange(Y.shape[0]):\n",
    "    if Y[i]==1:\n",
    "        x1[count_x1,0]=X[i,0]\n",
    "        x1[count_x1,1]=X[i,1]\n",
    "        count_x1 +=1\n",
    "    else:\n",
    "        x2[count_x2,0]=X[i,0]\n",
    "        x2[count_x2,1]=X[i,1]\n",
    "        count_x2 +=1\n",
    "\n",
    "plt.scatter(x1[:, 0], x1[:, 1], color='c',label='Survive')\n",
    "plt.scatter(x2[:, 0], x2[:, 1], color='y',label='Die')\n",
    "plt.xlabel('age')\n",
    "plt.ylabel('ticket cost')\n",
    "# randomly selected data\n",
    "plt.scatter(x_tst[:,0],x_tst[:,1],color='b',label='test')\n",
    "plt.legend(loc='best')\n",
    "\n",
    "\n",
    "# missidentifies for k = value\n",
    "plt.figure()\n",
    "plt.scatter(x1[:, 0], x1[:, 1], color='c', label='Survive')\n",
    "plt.scatter(x2[:, 0], x2[:, 1], color='y', label='Die')\n",
    "plt.scatter(ms[-1]['x'][:,0],ms[-1]['x'][:,1],color='r',label='missidenity,k=%d'%ms[-1]['k'])\n",
    "plt.legend(loc='best')\n",
    "plt.xlabel('age')\n",
    "plt.ylabel('ticket cost')\n",
    "plt.figure()\n",
    "\n",
    "# accuracy plot\n",
    "k = plt.scatter(res[:, 0], res[:, 1])\n",
    "plt.ylim(min(res[:, 1]) - 2, max(res[:, 1])+1, 4)\n",
    "plt.xlabel('k')\n",
    "plt.ylabel('accuracy, %')\n",
    "plt.show()"
   ]
  },
  {
   "cell_type": "code",
   "execution_count": null,
   "metadata": {
    "collapsed": true
   },
   "outputs": [],
   "source": []
  },
  {
   "cell_type": "code",
   "execution_count": null,
   "metadata": {
    "collapsed": true
   },
   "outputs": [],
   "source": []
  }
 ],
 "metadata": {
  "kernelspec": {
   "display_name": "Python 3",
   "language": "python",
   "name": "python3"
  },
  "language_info": {
   "codemirror_mode": {
    "name": "ipython",
    "version": 3
   },
   "file_extension": ".py",
   "mimetype": "text/x-python",
   "name": "python",
   "nbconvert_exporter": "python",
   "pygments_lexer": "ipython3",
   "version": "3.6.3"
  }
 },
 "nbformat": 4,
 "nbformat_minor": 1
}
