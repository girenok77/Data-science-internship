{
 "cells": [
  {
   "cell_type": "code",
   "execution_count": 94,
   "metadata": {
    "collapsed": true
   },
   "outputs": [],
   "source": [
    "import numpy as np\n",
    "import matplotlib.pyplot as plt\n",
    "import pandas as pd\n",
    "\n",
    "%matplotlib inline"
   ]
  },
  {
   "cell_type": "code",
   "execution_count": 95,
   "metadata": {},
   "outputs": [
    {
     "data": {
      "text/html": [
       "<div>\n",
       "<style>\n",
       "    .dataframe thead tr:only-child th {\n",
       "        text-align: right;\n",
       "    }\n",
       "\n",
       "    .dataframe thead th {\n",
       "        text-align: left;\n",
       "    }\n",
       "\n",
       "    .dataframe tbody tr th {\n",
       "        vertical-align: top;\n",
       "    }\n",
       "</style>\n",
       "<table border=\"1\" class=\"dataframe\">\n",
       "  <thead>\n",
       "    <tr style=\"text-align: right;\">\n",
       "      <th></th>\n",
       "      <th>datetime</th>\n",
       "      <th>season</th>\n",
       "      <th>holiday</th>\n",
       "      <th>workingday</th>\n",
       "      <th>weather</th>\n",
       "      <th>temp</th>\n",
       "      <th>atemp</th>\n",
       "      <th>humidity</th>\n",
       "      <th>windspeed</th>\n",
       "      <th>casual</th>\n",
       "      <th>registered</th>\n",
       "      <th>count</th>\n",
       "    </tr>\n",
       "  </thead>\n",
       "  <tbody>\n",
       "    <tr>\n",
       "      <th>0</th>\n",
       "      <td>2011-01-01 00:00:00</td>\n",
       "      <td>1</td>\n",
       "      <td>0</td>\n",
       "      <td>0</td>\n",
       "      <td>1</td>\n",
       "      <td>9.84</td>\n",
       "      <td>14.395</td>\n",
       "      <td>81</td>\n",
       "      <td>0.0</td>\n",
       "      <td>3</td>\n",
       "      <td>13</td>\n",
       "      <td>16</td>\n",
       "    </tr>\n",
       "    <tr>\n",
       "      <th>1</th>\n",
       "      <td>2011-01-01 01:00:00</td>\n",
       "      <td>1</td>\n",
       "      <td>0</td>\n",
       "      <td>0</td>\n",
       "      <td>1</td>\n",
       "      <td>9.02</td>\n",
       "      <td>13.635</td>\n",
       "      <td>80</td>\n",
       "      <td>0.0</td>\n",
       "      <td>8</td>\n",
       "      <td>32</td>\n",
       "      <td>40</td>\n",
       "    </tr>\n",
       "  </tbody>\n",
       "</table>\n",
       "</div>"
      ],
      "text/plain": [
       "              datetime  season  holiday  workingday  weather  temp   atemp  \\\n",
       "0  2011-01-01 00:00:00       1        0           0        1  9.84  14.395   \n",
       "1  2011-01-01 01:00:00       1        0           0        1  9.02  13.635   \n",
       "\n",
       "   humidity  windspeed  casual  registered  count  \n",
       "0        81        0.0       3          13     16  \n",
       "1        80        0.0       8          32     40  "
      ]
     },
     "execution_count": 95,
     "metadata": {},
     "output_type": "execute_result"
    }
   ],
   "source": [
    "dfs = [pd.read_csv('train.csv',header=0),pd.read_csv('test.csv',header=0)]\n",
    "dfs[0].head(2)"
   ]
  },
  {
   "cell_type": "code",
   "execution_count": 96,
   "metadata": {},
   "outputs": [
    {
     "data": {
      "text/html": [
       "<div>\n",
       "<style>\n",
       "    .dataframe thead tr:only-child th {\n",
       "        text-align: right;\n",
       "    }\n",
       "\n",
       "    .dataframe thead th {\n",
       "        text-align: left;\n",
       "    }\n",
       "\n",
       "    .dataframe tbody tr th {\n",
       "        vertical-align: top;\n",
       "    }\n",
       "</style>\n",
       "<table border=\"1\" class=\"dataframe\">\n",
       "  <thead>\n",
       "    <tr style=\"text-align: right;\">\n",
       "      <th></th>\n",
       "      <th>datetime</th>\n",
       "      <th>season</th>\n",
       "      <th>holiday</th>\n",
       "      <th>workingday</th>\n",
       "      <th>weather</th>\n",
       "      <th>temp</th>\n",
       "      <th>atemp</th>\n",
       "      <th>humidity</th>\n",
       "      <th>windspeed</th>\n",
       "      <th>casual</th>\n",
       "      <th>registered</th>\n",
       "      <th>count</th>\n",
       "      <th>year</th>\n",
       "      <th>month</th>\n",
       "      <th>dayofweek</th>\n",
       "      <th>hour</th>\n",
       "    </tr>\n",
       "  </thead>\n",
       "  <tbody>\n",
       "    <tr>\n",
       "      <th>0</th>\n",
       "      <td>2011-01-01 00:00:00</td>\n",
       "      <td>1</td>\n",
       "      <td>0</td>\n",
       "      <td>0</td>\n",
       "      <td>1</td>\n",
       "      <td>9.84</td>\n",
       "      <td>14.395</td>\n",
       "      <td>81</td>\n",
       "      <td>0.0</td>\n",
       "      <td>3</td>\n",
       "      <td>13</td>\n",
       "      <td>16</td>\n",
       "      <td>2011</td>\n",
       "      <td>1</td>\n",
       "      <td>5</td>\n",
       "      <td>0</td>\n",
       "    </tr>\n",
       "    <tr>\n",
       "      <th>1</th>\n",
       "      <td>2011-01-01 01:00:00</td>\n",
       "      <td>1</td>\n",
       "      <td>0</td>\n",
       "      <td>0</td>\n",
       "      <td>1</td>\n",
       "      <td>9.02</td>\n",
       "      <td>13.635</td>\n",
       "      <td>80</td>\n",
       "      <td>0.0</td>\n",
       "      <td>8</td>\n",
       "      <td>32</td>\n",
       "      <td>40</td>\n",
       "      <td>2011</td>\n",
       "      <td>1</td>\n",
       "      <td>5</td>\n",
       "      <td>1</td>\n",
       "    </tr>\n",
       "  </tbody>\n",
       "</table>\n",
       "</div>"
      ],
      "text/plain": [
       "             datetime  season  holiday  workingday  weather  temp   atemp  \\\n",
       "0 2011-01-01 00:00:00       1        0           0        1  9.84  14.395   \n",
       "1 2011-01-01 01:00:00       1        0           0        1  9.02  13.635   \n",
       "\n",
       "   humidity  windspeed  casual  registered  count  year  month  dayofweek  \\\n",
       "0        81        0.0       3          13     16  2011      1          5   \n",
       "1        80        0.0       8          32     40  2011      1          5   \n",
       "\n",
       "   hour  \n",
       "0     0  \n",
       "1     1  "
      ]
     },
     "execution_count": 96,
     "metadata": {},
     "output_type": "execute_result"
    }
   ],
   "source": [
    "for df in dfs:\n",
    "    df.datetime = df.datetime.apply(pd.to_datetime)\n",
    "    df['year']  = df.datetime.apply(lambda x : x.year)\n",
    "    df['month'] = df.datetime.apply(lambda x : x.month)\n",
    "    df['dayofweek'] = df.datetime.apply(lambda x : x.dayofweek)\n",
    "    df['hour']  = df.datetime.apply(lambda x : x.hour)\n",
    "dfs[0].head(2)"
   ]
  },
  {
   "cell_type": "code",
   "execution_count": 97,
   "metadata": {},
   "outputs": [
    {
     "name": "stdout",
     "output_type": "stream",
     "text": [
      "(10886, 16)\n",
      "(10739, 16)\n"
     ]
    }
   ],
   "source": [
    "categoricalFeatureNames = [\"holiday\",\"workingday\",\"weather\",\"hour\",\"year\",\"month\",\"dayofweek\",\"season\"]\n",
    "for df in dfs:\n",
    "    for var in categoricalFeatureNames:\n",
    "        df[var] = df[var].astype(\"category\",copy=False)   \n",
    "print(dfs[0].shape)\n",
    "dfs[0] = dfs[0][np.abs(dfs[0][\"count\"]-dfs[0][\"count\"].mean())<=(3*dfs[0][\"count\"].std())]  \n",
    "print(dfs[0].shape)"
   ]
  },
  {
   "cell_type": "code",
   "execution_count": 98,
   "metadata": {
    "collapsed": true
   },
   "outputs": [],
   "source": [
    "data = dfs[0].append(dfs[1])\n",
    "data.reset_index(inplace=True)\n",
    "data.drop('index',inplace=True,axis=1)\n"
   ]
  },
  {
   "cell_type": "code",
   "execution_count": 99,
   "metadata": {
    "collapsed": true
   },
   "outputs": [],
   "source": [
    "data['workingday'] = data['workingday'].astype(\"int32\",copy=False)\n",
    "data['holiday'] = data['holiday'].astype(\"int32\",copy=False)\n"
   ]
  },
  {
   "cell_type": "code",
   "execution_count": 100,
   "metadata": {},
   "outputs": [],
   "source": [
    "import xgboost as xg\n",
    "\n",
    "# data['season'] = data['season'].astype(\"int32\",copy=False)\n",
    "# data['weather'] = data['weather'].astype(\"int32\",copy=False)\n",
    "# data['month'] = data['month'].astype(\"int32\",copy=False)\n",
    "# data['year'] = data['year'].astype(\"int32\",copy=False)\n",
    "\n",
    "# dataWind0 = data[data[\"windspeed\"]==0]\n",
    "# dataWindNot0 = data[data[\"windspeed\"]!=0]\n",
    "# xgrWind=xg.XGBRegressor()\n",
    "# windColumns = [\"season\",\"weather\",\"humidity\",\"month\",\"temp\",\"year\",\"atemp\"]\n",
    "# xgrWind.fit(dataWindNot0[windColumns], dataWindNot0[\"windspeed\"])\n",
    "\n",
    "# wind0Values = xgrWind.predict(dataWind0[windColumns])\n",
    "# dataWind0[\"windspeed\"] = wind0Values\n",
    "# data = dataWindNot0.append(dataWind0)\n",
    "# data.reset_index(inplace=True)\n",
    "# data.drop('index',inplace=True,axis=1)"
   ]
  },
  {
   "cell_type": "code",
   "execution_count": 101,
   "metadata": {
    "collapsed": true
   },
   "outputs": [],
   "source": [
    "# data.loc[(data['workingday']==0) & (data['holiday']==0),'holiday']=1\n"
   ]
  },
  {
   "cell_type": "code",
   "execution_count": 102,
   "metadata": {},
   "outputs": [
    {
     "name": "stdout",
     "output_type": "stream",
     "text": [
      "0 =count  (0, 16)\n",
      "1 =count  (105, 16)\n"
     ]
    }
   ],
   "source": [
    "for i in np.arange(2):\n",
    "    data_z =  data[data[\"count\"]==i]\n",
    "    print(i,'=count ',data_z.shape)"
   ]
  },
  {
   "cell_type": "code",
   "execution_count": 103,
   "metadata": {
    "collapsed": true
   },
   "outputs": [],
   "source": [
    "data['workingday'] = data['workingday'].astype(\"category\",copy=False)\n",
    "data['holiday'] = data['holiday'].astype(\"category\",copy=False)\n",
    "# data['season'] = data['season'].astype(\"category\",copy=False)\n",
    "# data['weather'] = data['weather'].astype(\"category\",copy=False)\n",
    "# data['month'] = data['month'].astype(\"category\",copy=False)\n",
    "# data['year'] = data['year'].astype(\"category\",copy=False)"
   ]
  },
  {
   "cell_type": "code",
   "execution_count": 104,
   "metadata": {
    "collapsed": true
   },
   "outputs": [],
   "source": [
    "dataTrain = data[pd.notnull(data['count'])].sort_values(by=[\"datetime\"])\n",
    "dataTest = data[~pd.notnull(data['count'])].sort_values(by=[\"datetime\"])\n",
    "datetimecol = dataTest[\"datetime\"]\n",
    "yLabels = dataTrain[\"count\"]\n",
    "\n"
   ]
  },
  {
   "cell_type": "code",
   "execution_count": 105,
   "metadata": {
    "collapsed": true
   },
   "outputs": [],
   "source": [
    "y = yLabels.values.astype(np.float32)\n",
    "y1 = dataTrain['registered'].values.astype(np.float32)\n",
    "y2 = dataTrain['casual'].values.astype(np.float32)\n",
    "\n",
    "dataTrain=dataTrain.drop(['datetime','casual','registered','count'],axis=1)\n",
    "dataTest=dataTest.drop(['datetime','casual','registered','count'],axis=1)\n",
    "\n",
    "x_train_main = dataTrain.values.astype(np.float32)\n",
    "x_test_main = dataTest.values.astype(np.float32)\n"
   ]
  },
  {
   "cell_type": "code",
   "execution_count": 106,
   "metadata": {},
   "outputs": [
    {
     "data": {
      "text/plain": [
       "(10739, 12)"
      ]
     },
     "execution_count": 106,
     "metadata": {},
     "output_type": "execute_result"
    }
   ],
   "source": [
    "x_train_main.shape"
   ]
  },
  {
   "cell_type": "code",
   "execution_count": 107,
   "metadata": {},
   "outputs": [
    {
     "name": "stdout",
     "output_type": "stream",
     "text": [
      "(10739,) (10739,) (10739,)\n"
     ]
    }
   ],
   "source": [
    "print(y.shape,y1.shape,y2.shape)"
   ]
  },
  {
   "cell_type": "markdown",
   "metadata": {},
   "source": [
    "# Define scores functions"
   ]
  },
  {
   "cell_type": "code",
   "execution_count": 147,
   "metadata": {},
   "outputs": [],
   "source": [
    "def cross_val(x,y,model,cv=3,do_shuffle=False,loged=True):\n",
    "    if x.shape[0]!=y.shape[0]:\n",
    "        print(\"Wrong size of x,y.\\n x size is  \",x.shape[0],\" y size is \",y.shape[0])\n",
    "        return\n",
    "    \n",
    "    if do_shuffle==True:\n",
    "        x,y=shuffle(x,y)\n",
    "        \n",
    "    xs = np.array_split(x,cv,axis=0)\n",
    "    ys = np.array_split(y,cv,axis=0)\n",
    "    scores = np.zeros(cv)\n",
    "    models = []\n",
    "    \n",
    "    for i in np.arange(cv):\n",
    "        x_test = xs[i]\n",
    "        y_test = ys[i]\n",
    "        \n",
    "        x_train = np.concatenate(np.delete(xs,i,0),axis=0)\n",
    "        y_train = np.concatenate(np.delete(ys,i,0),axis=0)\n",
    "#         model = RandomForestRegressor(n_estimators=360, max_depth= 10, max_features= 0.8, min_samples_split= 2)\n",
    "        \n",
    "        model =xg.XGBRegressor(n_estimators=360,max_depth=6,min_child_weight=5,gamma=0.4,colsample_bytree=0.9,subsample=0.5)\n",
    "        \n",
    "        model =model.fit(x_train,y_train)\n",
    "        models.append(model) \n",
    "        predicted = model.predict(x_test)\n",
    "        predicted = np.clip(predicted,a_min=0.693,a_max=1500)\n",
    "#         predicted =rounds(0.05,0.95,predicted)\n",
    "\n",
    "#         print('min~~',predicted.min(),x_test.shape)\n",
    "        scores[i]= rmsle(y_test,predicted,loged=loged)\n",
    "\n",
    "    return scores,models\n",
    "\n",
    "def rmsle(y, y_,loged=True):\n",
    "    if loged==False:\n",
    "        log1 = np.nan_to_num(np.array([np.log(v + 1) for v in y]))\n",
    "        log2 = np.nan_to_num(np.array([np.log(v + 1) for v in y_]))\n",
    "    else:\n",
    "        log1 = y\n",
    "        log2 =y_\n",
    "            \n",
    "    calc = (log1 - log2) ** 2\n",
    "    return np.sqrt(np.mean(calc))\n",
    "\n",
    "def shuffle(a, b):\n",
    "    assert len(a) == len(b)\n",
    "    p = np.random.permutation(len(a))\n",
    "    return a[p], b[p]\n",
    "\n",
    "def rounds(min,max,numbers):\n",
    "    numbers = np.expm1(numbers)\n",
    "    for i in np.arange(numbers.shape[0]):\n",
    "        \n",
    "        if (numbers[i]-np.fix(numbers[i]))>=max:\n",
    "            numbers[i] =np.ceil(numbers[i])\n",
    "        elif (numbers[i]-numbers[i].astype(int))<=min:\n",
    "            numbers[i] =np.fix(numbers[i])\n",
    "        \n",
    "    numbers = np.log1p(numbers)\n",
    "    return numbers\n",
    "        \n"
   ]
  },
  {
   "cell_type": "markdown",
   "metadata": {},
   "source": [
    "# Make models"
   ]
  },
  {
   "cell_type": "code",
   "execution_count": 137,
   "metadata": {},
   "outputs": [],
   "source": [
    "log_y = np.log1p(y)"
   ]
  },
  {
   "cell_type": "code",
   "execution_count": 138,
   "metadata": {},
   "outputs": [
    {
     "name": "stdout",
     "output_type": "stream",
     "text": [
      "~~ 0.693 (3580, 12)\n",
      "~~ 0.98368 (3580, 12)\n",
      "~~ 1.02721 (3579, 12)\n",
      "[ 0.48999339  0.40949601  0.32392383] 0.407804409663\n"
     ]
    }
   ],
   "source": [
    "from sklearn.ensemble import RandomForestRegressor\n",
    "\n",
    "import xgboost as xg\n",
    "\n",
    "rff = RandomForestRegressor()\n",
    "\n",
    "xgr=xg.XGBRegressor(n_estimators=360,max_depth=6,min_child_weight=5,gamma=0.4,colsample_bytree=0.9,subsample=0.5)\n",
    "\n",
    "res,models=cross_val(x_train_main,log_y,xgr,cv=3,do_shuffle=False,loged=True)\n",
    "print(res,res.mean())\n"
   ]
  },
  {
   "cell_type": "code",
   "execution_count": null,
   "metadata": {
    "collapsed": true
   },
   "outputs": [],
   "source": [
    "import xgboost as xg\n",
    "from time import time\n",
    "from sklearn.cross_validation import train_test_split\n",
    "from sklearn.metrics import mean_squared_error\n",
    "from sklearn.model_selection import GridSearchCV\n",
    "\n",
    "X_train, X_test, y_train, y_test = train_test_split(x_train_main, log_y, test_size = 0.33, random_state = 22)\n",
    "rf = RandomForestRegressor()\n",
    "xgr=xg.XGBRegressor()\n",
    "param_grid = {\"max_depth\": [6],\n",
    "              \"min_child_weight\": [3,4,5],\n",
    "              \"gamma\" : [0.5,0.4],\n",
    "              \"colsample_bytree\": [0.9,0.8],\n",
    "              \"subsample\":[0.6,0.5]}\n",
    "grid_search = GridSearchCV(xgr, param_grid=param_grid)\n",
    "start = time()\n",
    "grid_search.fit(X_train, y_train)\n",
    "print(\"GridSearchCV took %.2f seconds for %d candidate parameter settings.\"\n",
    "      % (time() - start, len(grid_search.cv_results_['params'])))\n",
    "# report(grid_search.cv_results_)\n",
    "# prediction = rf.predict(X_test)\n",
    "# prediction = prediction.astype(np.float32)\n",
    "# rmsle(y_test, prediction) \n",
    "# mean_squared_error(y_test, prediction) "
   ]
  },
  {
   "cell_type": "code",
   "execution_count": 126,
   "metadata": {},
   "outputs": [
    {
     "name": "stdout",
     "output_type": "stream",
     "text": [
      "GridSearchCV took 441.12 seconds for 80 candidate parameter settings.\n"
     ]
    }
   ],
   "source": [
    "from sklearn.ensemble import RandomForestRegressor\n",
    "import xgboost as xg\n",
    "from time import time\n",
    "from sklearn.cross_validation import train_test_split\n",
    "from sklearn.metrics import mean_squared_error\n",
    "from sklearn.model_selection import GridSearchCV\n",
    "\n",
    "X_train, X_test, y_train, y_test = train_test_split(x_train_main, log_y, test_size = 0.33, random_state = 22)\n",
    "rf = RandomForestRegressor()\n",
    "xgr=xg.XGBRegressor()\n",
    "param_grid = { \"n_estimators\"      : [360],\n",
    "               \"max_features\"      : ['sqrt','log2',0.2,0.5,0.8],\n",
    "               \"max_depth\"         : [3,4,6,10],\n",
    "               \"min_samples_split\" : [2, 5, 20,50] }\n",
    "grid_search = GridSearchCV(rf, param_grid=param_grid)\n",
    "start = time()\n",
    "grid_search.fit(X_train, y_train)\n",
    "print(\"GridSearchCV took %.2f seconds for %d candidate parameter settings.\"\n",
    "      % (time() - start, len(grid_search.cv_results_['params'])))\n"
   ]
  },
  {
   "cell_type": "code",
   "execution_count": 127,
   "metadata": {},
   "outputs": [
    {
     "name": "stdout",
     "output_type": "stream",
     "text": [
      "{'max_depth': 10, 'max_features': 0.8, 'min_samples_split': 2, 'n_estimators': 360}\n"
     ]
    }
   ],
   "source": [
    "print (grid_search.best_params_)\n",
    "# XGBoost'colsample_bytree': 0.9, 'gamma': 0.5, 'max_depth': 6, 'min_child_weight': 5, 'subsample': 0.6\n",
    "# RF {'max_depth': 10, 'max_features': 0.8, 'min_samples_split': 2, 'n_estimators': 360}"
   ]
  },
  {
   "cell_type": "markdown",
   "metadata": {},
   "source": [
    "# Submit to csv"
   ]
  },
  {
   "cell_type": "code",
   "execution_count": 122,
   "metadata": {},
   "outputs": [],
   "source": [
    "from sklearn.ensemble import RandomForestRegressor\n",
    "xgr=xg.XGBRegressor(n_estimators=360,max_depth=6,min_child_weight=5,gamma=0.4,colsample_bytree=0.9,subsample=0.5)\n",
    "rff =  RandomForestRegressor()\n",
    "rff.fit(x_train_main,log_y)\n",
    "pred_y =rff.predict(x_test_main)\n",
    "submit_y = np.expm1(pred_y)\n",
    "\n"
   ]
  },
  {
   "cell_type": "code",
   "execution_count": 123,
   "metadata": {},
   "outputs": [
    {
     "data": {
      "text/html": [
       "<div>\n",
       "<style>\n",
       "    .dataframe thead tr:only-child th {\n",
       "        text-align: right;\n",
       "    }\n",
       "\n",
       "    .dataframe thead th {\n",
       "        text-align: left;\n",
       "    }\n",
       "\n",
       "    .dataframe tbody tr th {\n",
       "        vertical-align: top;\n",
       "    }\n",
       "</style>\n",
       "<table border=\"1\" class=\"dataframe\">\n",
       "  <thead>\n",
       "    <tr style=\"text-align: right;\">\n",
       "      <th></th>\n",
       "      <th>datetime</th>\n",
       "      <th>count</th>\n",
       "    </tr>\n",
       "  </thead>\n",
       "  <tbody>\n",
       "    <tr>\n",
       "      <th>0</th>\n",
       "      <td>2011-01-20 00:00:00</td>\n",
       "      <td>11.698218</td>\n",
       "    </tr>\n",
       "    <tr>\n",
       "      <th>1</th>\n",
       "      <td>2011-01-20 01:00:00</td>\n",
       "      <td>4.142627</td>\n",
       "    </tr>\n",
       "    <tr>\n",
       "      <th>2</th>\n",
       "      <td>2011-01-20 02:00:00</td>\n",
       "      <td>2.977651</td>\n",
       "    </tr>\n",
       "    <tr>\n",
       "      <th>3</th>\n",
       "      <td>2011-01-20 03:00:00</td>\n",
       "      <td>2.923299</td>\n",
       "    </tr>\n",
       "    <tr>\n",
       "      <th>4</th>\n",
       "      <td>2011-01-20 04:00:00</td>\n",
       "      <td>2.515113</td>\n",
       "    </tr>\n",
       "  </tbody>\n",
       "</table>\n",
       "</div>"
      ],
      "text/plain": [
       "              datetime      count\n",
       "0  2011-01-20 00:00:00  11.698218\n",
       "1  2011-01-20 01:00:00   4.142627\n",
       "2  2011-01-20 02:00:00   2.977651\n",
       "3  2011-01-20 03:00:00   2.923299\n",
       "4  2011-01-20 04:00:00   2.515113"
      ]
     },
     "execution_count": 123,
     "metadata": {},
     "output_type": "execute_result"
    }
   ],
   "source": [
    "\n",
    "\n",
    "submit_ex = pd.read_csv('sampleSubmission.csv',header=0)\n",
    "submit_ex['count'] = submit_y.astype(np.float32)\n",
    "submit_ex.to_csv('submit.csv',index=False)\n",
    "submit_ex.head(5)"
   ]
  },
  {
   "cell_type": "markdown",
   "metadata": {
    "collapsed": true
   },
   "source": [
    "## Last submited scores:"
   ]
  },
  {
   "cell_type": "code",
   "execution_count": 146,
   "metadata": {},
   "outputs": [
    {
     "name": "stdout",
     "output_type": "stream",
     "text": [
      "1) 0.48759  1384's place\n",
      "2) 0.41674  420's place ~ top  12.92  %\n",
      "3) 0.41485  382's place ~ top  11.75  %\n"
     ]
    }
   ],
   "source": [
    "print('1)',0.48759,' 1384\\'s place')#Rforest\n",
    "print('2)',0.41674,' 420\\'s place ~ top ',np.round(420*100/3252,2), ' %')#XGboost\n",
    "print('3)',0.41485,' 382\\'s place ~ top ',np.round(382*100/3252,2), ' %')"
   ]
  },
  {
   "cell_type": "code",
   "execution_count": null,
   "metadata": {
    "collapsed": true
   },
   "outputs": [],
   "source": [
    "\n"
   ]
  }
 ],
 "metadata": {
  "kernelspec": {
   "display_name": "Python 3",
   "language": "python",
   "name": "python3"
  },
  "language_info": {
   "codemirror_mode": {
    "name": "ipython",
    "version": 3
   },
   "file_extension": ".py",
   "mimetype": "text/x-python",
   "name": "python",
   "nbconvert_exporter": "python",
   "pygments_lexer": "ipython3",
   "version": "3.6.3"
  }
 },
 "nbformat": 4,
 "nbformat_minor": 2
}
