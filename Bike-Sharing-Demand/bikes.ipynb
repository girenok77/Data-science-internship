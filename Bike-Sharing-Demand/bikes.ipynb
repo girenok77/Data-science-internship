{
 "cells": [
  {
   "cell_type": "code",
   "execution_count": 91,
   "metadata": {
    "collapsed": true
   },
   "outputs": [],
   "source": [
    "import numpy as np\n",
    "import matplotlib.pyplot as plt\n",
    "import pandas as pd\n",
    "\n",
    "%matplotlib inline"
   ]
  },
  {
   "cell_type": "code",
   "execution_count": 92,
   "metadata": {},
   "outputs": [
    {
     "data": {
      "text/html": [
       "<div>\n",
       "<style>\n",
       "    .dataframe thead tr:only-child th {\n",
       "        text-align: right;\n",
       "    }\n",
       "\n",
       "    .dataframe thead th {\n",
       "        text-align: left;\n",
       "    }\n",
       "\n",
       "    .dataframe tbody tr th {\n",
       "        vertical-align: top;\n",
       "    }\n",
       "</style>\n",
       "<table border=\"1\" class=\"dataframe\">\n",
       "  <thead>\n",
       "    <tr style=\"text-align: right;\">\n",
       "      <th></th>\n",
       "      <th>datetime</th>\n",
       "      <th>season</th>\n",
       "      <th>holiday</th>\n",
       "      <th>workingday</th>\n",
       "      <th>weather</th>\n",
       "      <th>temp</th>\n",
       "      <th>atemp</th>\n",
       "      <th>humidity</th>\n",
       "      <th>windspeed</th>\n",
       "      <th>casual</th>\n",
       "      <th>registered</th>\n",
       "      <th>count</th>\n",
       "    </tr>\n",
       "  </thead>\n",
       "  <tbody>\n",
       "    <tr>\n",
       "      <th>0</th>\n",
       "      <td>2011-01-01 00:00:00</td>\n",
       "      <td>1</td>\n",
       "      <td>0</td>\n",
       "      <td>0</td>\n",
       "      <td>1</td>\n",
       "      <td>9.84</td>\n",
       "      <td>14.395</td>\n",
       "      <td>81</td>\n",
       "      <td>0.0</td>\n",
       "      <td>3</td>\n",
       "      <td>13</td>\n",
       "      <td>16</td>\n",
       "    </tr>\n",
       "    <tr>\n",
       "      <th>1</th>\n",
       "      <td>2011-01-01 01:00:00</td>\n",
       "      <td>1</td>\n",
       "      <td>0</td>\n",
       "      <td>0</td>\n",
       "      <td>1</td>\n",
       "      <td>9.02</td>\n",
       "      <td>13.635</td>\n",
       "      <td>80</td>\n",
       "      <td>0.0</td>\n",
       "      <td>8</td>\n",
       "      <td>32</td>\n",
       "      <td>40</td>\n",
       "    </tr>\n",
       "  </tbody>\n",
       "</table>\n",
       "</div>"
      ],
      "text/plain": [
       "              datetime  season  holiday  workingday  weather  temp   atemp  \\\n",
       "0  2011-01-01 00:00:00       1        0           0        1  9.84  14.395   \n",
       "1  2011-01-01 01:00:00       1        0           0        1  9.02  13.635   \n",
       "\n",
       "   humidity  windspeed  casual  registered  count  \n",
       "0        81        0.0       3          13     16  \n",
       "1        80        0.0       8          32     40  "
      ]
     },
     "execution_count": 92,
     "metadata": {},
     "output_type": "execute_result"
    }
   ],
   "source": [
    "dfs = [pd.read_csv('train.csv',header=0),pd.read_csv('test.csv',header=0)]\n",
    "dfs[0].head(2)"
   ]
  },
  {
   "cell_type": "markdown",
   "metadata": {},
   "source": [
    "# Get new features from datatime"
   ]
  },
  {
   "cell_type": "code",
   "execution_count": 93,
   "metadata": {},
   "outputs": [
    {
     "data": {
      "text/html": [
       "<div>\n",
       "<style>\n",
       "    .dataframe thead tr:only-child th {\n",
       "        text-align: right;\n",
       "    }\n",
       "\n",
       "    .dataframe thead th {\n",
       "        text-align: left;\n",
       "    }\n",
       "\n",
       "    .dataframe tbody tr th {\n",
       "        vertical-align: top;\n",
       "    }\n",
       "</style>\n",
       "<table border=\"1\" class=\"dataframe\">\n",
       "  <thead>\n",
       "    <tr style=\"text-align: right;\">\n",
       "      <th></th>\n",
       "      <th>datetime</th>\n",
       "      <th>season</th>\n",
       "      <th>holiday</th>\n",
       "      <th>workingday</th>\n",
       "      <th>weather</th>\n",
       "      <th>temp</th>\n",
       "      <th>atemp</th>\n",
       "      <th>humidity</th>\n",
       "      <th>windspeed</th>\n",
       "      <th>casual</th>\n",
       "      <th>registered</th>\n",
       "      <th>count</th>\n",
       "      <th>year</th>\n",
       "      <th>month</th>\n",
       "      <th>dayofweek</th>\n",
       "      <th>hour</th>\n",
       "    </tr>\n",
       "  </thead>\n",
       "  <tbody>\n",
       "    <tr>\n",
       "      <th>0</th>\n",
       "      <td>2011-01-01 00:00:00</td>\n",
       "      <td>1</td>\n",
       "      <td>0</td>\n",
       "      <td>0</td>\n",
       "      <td>1</td>\n",
       "      <td>9.84</td>\n",
       "      <td>14.395</td>\n",
       "      <td>81</td>\n",
       "      <td>0.0</td>\n",
       "      <td>3</td>\n",
       "      <td>13</td>\n",
       "      <td>16</td>\n",
       "      <td>2011</td>\n",
       "      <td>1</td>\n",
       "      <td>5</td>\n",
       "      <td>0</td>\n",
       "    </tr>\n",
       "    <tr>\n",
       "      <th>1</th>\n",
       "      <td>2011-01-01 01:00:00</td>\n",
       "      <td>1</td>\n",
       "      <td>0</td>\n",
       "      <td>0</td>\n",
       "      <td>1</td>\n",
       "      <td>9.02</td>\n",
       "      <td>13.635</td>\n",
       "      <td>80</td>\n",
       "      <td>0.0</td>\n",
       "      <td>8</td>\n",
       "      <td>32</td>\n",
       "      <td>40</td>\n",
       "      <td>2011</td>\n",
       "      <td>1</td>\n",
       "      <td>5</td>\n",
       "      <td>1</td>\n",
       "    </tr>\n",
       "  </tbody>\n",
       "</table>\n",
       "</div>"
      ],
      "text/plain": [
       "             datetime  season  holiday  workingday  weather  temp   atemp  \\\n",
       "0 2011-01-01 00:00:00       1        0           0        1  9.84  14.395   \n",
       "1 2011-01-01 01:00:00       1        0           0        1  9.02  13.635   \n",
       "\n",
       "   humidity  windspeed  casual  registered  count  year  month  dayofweek  \\\n",
       "0        81        0.0       3          13     16  2011      1          5   \n",
       "1        80        0.0       8          32     40  2011      1          5   \n",
       "\n",
       "   hour  \n",
       "0     0  \n",
       "1     1  "
      ]
     },
     "execution_count": 93,
     "metadata": {},
     "output_type": "execute_result"
    }
   ],
   "source": [
    "for df in dfs:\n",
    "    df.datetime = df.datetime.apply(pd.to_datetime)\n",
    "    df['year']  = df.datetime.apply(lambda x : x.year)\n",
    "    df['month'] = df.datetime.apply(lambda x : x.month)\n",
    "    df['dayofweek'] = df.datetime.apply(lambda x : x.dayofweek)\n",
    "    df['hour']  = df.datetime.apply(lambda x : x.hour)\n",
    "dfs[0].head(2)"
   ]
  },
  {
   "cell_type": "markdown",
   "metadata": {},
   "source": [
    "# Set categorical type"
   ]
  },
  {
   "cell_type": "code",
   "execution_count": 94,
   "metadata": {},
   "outputs": [],
   "source": [
    "categoricalFeatureNames = [\"holiday\",\"workingday\",\"weather\",\"hour\",\"year\",\"month\",\"dayofweek\",\"season\"]\n",
    "for df in dfs:\n",
    "    for var in categoricalFeatureNames:\n",
    "        df[var] = df[var].astype(\"category\",copy=False)   \n",
    "        \n"
   ]
  },
  {
   "cell_type": "markdown",
   "metadata": {},
   "source": [
    "# Remove outliners from dataset"
   ]
  },
  {
   "cell_type": "code",
   "execution_count": 95,
   "metadata": {},
   "outputs": [
    {
     "name": "stdout",
     "output_type": "stream",
     "text": [
      "(10886, 16)\n",
      "(10739, 16)\n"
     ]
    }
   ],
   "source": [
    "print(dfs[0].shape)\n",
    "dfs[0] = dfs[0][np.abs(dfs[0][\"count\"]-dfs[0][\"count\"].mean())<=(3*dfs[0][\"count\"].std())]  \n",
    "print(dfs[0].shape)"
   ]
  },
  {
   "cell_type": "code",
   "execution_count": 96,
   "metadata": {
    "collapsed": true
   },
   "outputs": [],
   "source": [
    "data = dfs[0].append(dfs[1])\n",
    "data.reset_index(inplace=True)\n",
    "data.drop('index',inplace=True,axis=1)\n"
   ]
  },
  {
   "cell_type": "code",
   "execution_count": 97,
   "metadata": {},
   "outputs": [
    {
     "name": "stdout",
     "output_type": "stream",
     "text": [
      "<class 'pandas.core.frame.DataFrame'>\n",
      "RangeIndex: 17232 entries, 0 to 17231\n",
      "Data columns (total 16 columns):\n",
      "atemp         17232 non-null float64\n",
      "casual        10739 non-null float64\n",
      "count         10739 non-null float64\n",
      "datetime      17232 non-null datetime64[ns]\n",
      "dayofweek     17232 non-null category\n",
      "holiday       17232 non-null category\n",
      "hour          17232 non-null category\n",
      "humidity      17232 non-null int64\n",
      "month         17232 non-null category\n",
      "registered    10739 non-null float64\n",
      "season        17232 non-null category\n",
      "temp          17232 non-null float64\n",
      "weather       17232 non-null category\n",
      "windspeed     17232 non-null float64\n",
      "workingday    17232 non-null category\n",
      "year          17232 non-null category\n",
      "dtypes: category(8), datetime64[ns](1), float64(6), int64(1)\n",
      "memory usage: 1.2 MB\n",
      "None\n"
     ]
    }
   ],
   "source": [
    "print(data.info())\n"
   ]
  },
  {
   "cell_type": "markdown",
   "metadata": {},
   "source": [
    "# Idea from kernels: predict 0's windspeed values by RF"
   ]
  },
  {
   "cell_type": "code",
   "execution_count": 98,
   "metadata": {
    "collapsed": true
   },
   "outputs": [],
   "source": [
    "# import xgboost as xg\n",
    "\n",
    "# data['season'] = data['season'].astype(\"int32\",copy=False)\n",
    "# data['weather'] = data['weather'].astype(\"int32\",copy=False)\n",
    "# data['month'] = data['month'].astype(\"int32\",copy=False)\n",
    "# data['year'] = data['year'].astype(\"int32\",copy=False)\n",
    "\n",
    "# dataWind0 = data[data[\"windspeed\"]==0]\n",
    "# dataWindNot0 = data[data[\"windspeed\"]!=0]\n",
    "# xgrWind=xg.XGBRegressor()\n",
    "# windColumns = [\"season\",\"weather\",\"humidity\",\"month\",\"temp\",\"year\",\"atemp\"]\n",
    "# xgrWind.fit(dataWindNot0[windColumns], dataWindNot0[\"windspeed\"])\n",
    "\n",
    "# wind0Values = xgrWind.predict(dataWind0[windColumns])\n",
    "# dataWind0[\"windspeed\"] = wind0Values\n",
    "# data = dataWindNot0.append(dataWind0)\n",
    "# data.reset_index(inplace=True)\n",
    "# data.drop('index',inplace=True,axis=1)"
   ]
  },
  {
   "cell_type": "markdown",
   "metadata": {},
   "source": [
    "# Sunday and Monday is holidays"
   ]
  },
  {
   "cell_type": "code",
   "execution_count": 99,
   "metadata": {
    "collapsed": true
   },
   "outputs": [],
   "source": [
    "# add groupby\n",
    "\n"
   ]
  },
  {
   "cell_type": "code",
   "execution_count": 100,
   "metadata": {
    "collapsed": true
   },
   "outputs": [],
   "source": [
    "# data['workingday'] = data['workingday'].astype(\"int32\",copy=False)\n",
    "# data['holiday'] = data['holiday'].astype(\"int32\",copy=False)\n",
    "# data.loc[(data['workingday']==0) & (data['holiday']==0),'holiday']=1\n",
    "# data['workingday'] = data['workingday'].astype(\"category\",copy=False)\n",
    "# data['holiday'] = data['holiday'].astype(\"category\",copy=False)"
   ]
  },
  {
   "cell_type": "markdown",
   "metadata": {
    "collapsed": true
   },
   "source": [
    "# Slice train and test data"
   ]
  },
  {
   "cell_type": "code",
   "execution_count": 101,
   "metadata": {
    "collapsed": true
   },
   "outputs": [],
   "source": [
    "dataTrain = data[pd.notnull(data['count'])].sort_values(by=[\"datetime\"])\n",
    "dataTest = data[~pd.notnull(data['count'])].sort_values(by=[\"datetime\"])\n",
    "yLabels = dataTrain[\"count\"]\n",
    "\n"
   ]
  },
  {
   "cell_type": "code",
   "execution_count": 102,
   "metadata": {},
   "outputs": [],
   "source": [
    "y = yLabels.values.astype(np.float64)\n",
    "y1 = dataTrain['registered'].values.astype(np.float32)\n",
    "y2 = dataTrain['casual'].values.astype(np.float32)\n",
    "\n",
    "dataTrain=dataTrain.drop(['datetime','casual','registered','count'],axis=1)\n",
    "dataTest=dataTest.drop(['datetime','casual','registered','count'],axis=1)\n",
    "\n",
    "x_train_main = dataTrain.values.astype(np.float64)\n",
    "x_test_main = dataTest.values.astype(np.float64)\n"
   ]
  },
  {
   "cell_type": "code",
   "execution_count": 103,
   "metadata": {},
   "outputs": [
    {
     "data": {
      "text/plain": [
       "(10739, 12)"
      ]
     },
     "execution_count": 103,
     "metadata": {},
     "output_type": "execute_result"
    }
   ],
   "source": [
    "x_train_main.shape"
   ]
  },
  {
   "cell_type": "code",
   "execution_count": 104,
   "metadata": {},
   "outputs": [
    {
     "name": "stdout",
     "output_type": "stream",
     "text": [
      "(10739,) (10739,) (10739,)\n"
     ]
    }
   ],
   "source": [
    "print(y.shape,y1.shape,y2.shape)"
   ]
  },
  {
   "cell_type": "markdown",
   "metadata": {},
   "source": [
    "# Define scores functions"
   ]
  },
  {
   "cell_type": "code",
   "execution_count": 112,
   "metadata": {
    "collapsed": true
   },
   "outputs": [],
   "source": [
    "def cross_val(x,y,modelx,cv=3,do_shuffle=False,loged=True):\n",
    "    if x.shape[0]!=y.shape[0]:\n",
    "        print(\"Wrong size of x,y.\\n x size is  \",x.shape[0],\" y size is \",y.shape[0])\n",
    "        return\n",
    "    \n",
    "    if do_shuffle==True:\n",
    "        x,y=shuffle(x,y)\n",
    "        \n",
    "    xs = np.array_split(x,cv,axis=0)\n",
    "    ys = np.array_split(y,cv,axis=0)\n",
    "    scores = np.zeros(cv)\n",
    "    models = []\n",
    "    \n",
    "    for i in np.arange(cv):\n",
    "        x_test = xs[i]\n",
    "        y_test = ys[i]\n",
    "        \n",
    "        x_train = np.concatenate(np.delete(xs,i,0),axis=0)\n",
    "        y_train = np.concatenate(np.delete(ys,i,0),axis=0)\n",
    "#         model = RandomForestRegressor(n_estimators=360, max_depth= 10, max_features= 0.8, min_samples_split= 2)\n",
    "        \n",
    "#         model =xg.XGBRegressor(n_estimators=360,max_depth=6,min_child_weight=5,gamma=0.4,colsample_bytree=0.9,subsample=0.5)\n",
    "        model = modelx\n",
    "        model =model.fit(x_train,y_train)\n",
    "        models.append(model) \n",
    "        predicted = model.predict(x_test)\n",
    "        predicted = np.clip(predicted,a_min=0.693,a_max=1500)\n",
    "#         predicted =rounds(0.05,0.95,predicted)\n",
    "\n",
    "#         print('min~~',predicted.min(),x_test.shape)\n",
    "        scores[i]= rmsle(y_test,predicted,loged=loged)\n",
    "\n",
    "    return scores,models\n",
    "\n",
    "\n",
    "def shuffle(a, b):\n",
    "    assert len(a) == len(b)\n",
    "    p = np.random.permutation(len(a))\n",
    "    return a[p], b[p]\n",
    "\n",
    "def rounds(min,max,numbers):\n",
    "    numbers = np.expm1(numbers)\n",
    "    for i in np.arange(numbers.shape[0]):\n",
    "        \n",
    "        if (numbers[i]-np.fix(numbers[i]))>=max:\n",
    "            numbers[i] =np.ceil(numbers[i])\n",
    "        elif (numbers[i]-numbers[i].astype(int))<=min:\n",
    "            numbers[i] =np.fix(numbers[i])\n",
    "        \n",
    "    numbers = np.log1p(numbers)\n",
    "    return numbers\n",
    "        \n"
   ]
  },
  {
   "cell_type": "markdown",
   "metadata": {},
   "source": [
    "# Score function"
   ]
  },
  {
   "cell_type": "code",
   "execution_count": 106,
   "metadata": {
    "collapsed": true
   },
   "outputs": [],
   "source": [
    "def rmsle(y, y_,loged=True):\n",
    "    if loged==False:\n",
    "        log1 = np.nan_to_num(np.array([np.log(v + 1) for v in y]))\n",
    "        log2 = np.nan_to_num(np.array([np.log(v + 1) for v in y_]))\n",
    "    else:\n",
    "        log1 = y\n",
    "        log2 =y_\n",
    "            \n",
    "    calc = (log1 - log2) ** 2\n",
    "    return np.sqrt(np.mean(calc))\n"
   ]
  },
  {
   "cell_type": "markdown",
   "metadata": {},
   "source": [
    "# Make models:"
   ]
  },
  {
   "cell_type": "markdown",
   "metadata": {},
   "source": [
    "### Lets try to predict log(x+1) values"
   ]
  },
  {
   "cell_type": "code",
   "execution_count": 107,
   "metadata": {
    "collapsed": true
   },
   "outputs": [],
   "source": [
    "log_y = np.log1p(y)"
   ]
  },
  {
   "cell_type": "code",
   "execution_count": 109,
   "metadata": {},
   "outputs": [
    {
     "name": "stdout",
     "output_type": "stream",
     "text": [
      "[-0.34425128 -0.19080144 -0.16385395]\n"
     ]
    }
   ],
   "source": [
    "from sklearn.ensemble import RandomForestRegressor\n",
    "import xgboost as xg\n",
    "from sklearn.model_selection import cross_val_score\n",
    "rf = RandomForestRegressor()\n",
    "xgr=xg.XGBRegressor()\n",
    "scores = cross_val_score(xgr, x_train_main, log_y, cv=3,scoring='neg_mean_squared_error')\n",
    "print(scores)"
   ]
  },
  {
   "cell_type": "code",
   "execution_count": 155,
   "metadata": {},
   "outputs": [
    {
     "name": "stdout",
     "output_type": "stream",
     "text": [
      "LinearRegression 1.03433014582\n",
      "RandomForestRegressor 0.510458820975\n",
      "GradientBoostingRegressor 0.477908230306\n",
      "SVR 1.10128770765\n",
      "DecisionTreeRegressor 0.626038891147\n",
      "AdaBoostRegressor 0.752393783679\n",
      "XGBRegressor 0.476108774114\n"
     ]
    }
   ],
   "source": [
    "from sklearn import linear_model\n",
    "from sklearn.ensemble import RandomForestRegressor\n",
    "from sklearn.ensemble import GradientBoostingRegressor\n",
    "from sklearn import svm\n",
    "from sklearn.tree import DecisionTreeRegressor\n",
    "from sklearn.ensemble import AdaBoostRegressor\n",
    "import xgboost as xg\n",
    "\n",
    "regressors = [\n",
    "    linear_model.LinearRegression(),\n",
    "    RandomForestRegressor(),\n",
    "    GradientBoostingRegressor(),\n",
    "    svm.SVR(),\n",
    "    DecisionTreeRegressor(),\n",
    "    AdaBoostRegressor(),\n",
    "    xg.XGBRegressor()\n",
    "]\n",
    "log = pd.DataFrame(columns=[[\"classifier\", \"log accuracy\"]])\n",
    "acc_dict = {}\n",
    "for r in regressors:\n",
    "    res,models=cross_val(x_train_main,log_y,r,cv=3,do_shuffle=False,loged=True)\n",
    "    print(r.__class__.__name__,res.mean())\n",
    "    name = r.__class__.__name__\n",
    "    acc = res.mean()\n",
    "    acc_dict[name]=acc\n"
   ]
  },
  {
   "cell_type": "markdown",
   "metadata": {},
   "source": [
    "# Grid Search for RandomForest and XGBoost"
   ]
  },
  {
   "cell_type": "code",
   "execution_count": null,
   "metadata": {
    "collapsed": true
   },
   "outputs": [],
   "source": [
    "import xgboost as xg\n",
    "from time import time\n",
    "from sklearn.cross_validation import train_test_split\n",
    "from sklearn.metrics import mean_squared_error\n",
    "from sklearn.model_selection import GridSearchCV\n",
    "\n",
    "X_train, X_test, y_train, y_test = train_test_split(x_train_main, log_y, test_size = 0.33, random_state = 22)\n",
    "rf = RandomForestRegressor()\n",
    "xgr=xg.XGBRegressor()\n",
    "param_grid = {\"max_depth\": [6],\n",
    "              \"min_child_weight\": [3,4,5],\n",
    "              \"gamma\" : [0.5,0.4],\n",
    "              \"colsample_bytree\": [0.9,0.8],\n",
    "              \"subsample\":[0.6,0.5]}\n",
    "grid_search = GridSearchCV(xgr, param_grid=param_grid)\n",
    "start = time()\n",
    "grid_search.fit(X_train, y_train)\n",
    "print(\"GridSearchCV took %.2f seconds for %d candidate parameter settings.\"\n",
    "      % (time() - start, len(grid_search.cv_results_['params'])))\n",
    "# report(grid_search.cv_results_)\n",
    "# prediction = rf.predict(X_test)\n",
    "# prediction = prediction.astype(np.float32)\n",
    "# rmsle(y_test, prediction) \n",
    "# mean_squared_error(y_test, prediction) "
   ]
  },
  {
   "cell_type": "code",
   "execution_count": 126,
   "metadata": {},
   "outputs": [
    {
     "name": "stdout",
     "output_type": "stream",
     "text": [
      "GridSearchCV took 441.12 seconds for 80 candidate parameter settings.\n"
     ]
    }
   ],
   "source": [
    "from sklearn.ensemble import RandomForestRegressor\n",
    "import xgboost as xg\n",
    "from time import time\n",
    "from sklearn.cross_validation import train_test_split\n",
    "from sklearn.metrics import mean_squared_error\n",
    "from sklearn.model_selection import GridSearchCV\n",
    "\n",
    "X_train, X_test, y_train, y_test = train_test_split(x_train_main, log_y, test_size = 0.33, random_state = 22)\n",
    "rf = RandomForestRegressor()\n",
    "xgr=xg.XGBRegressor()\n",
    "param_grid = { \"n_estimators\"      : [360],\n",
    "               \"max_features\"      : ['sqrt','log2',0.2,0.5,0.8],\n",
    "               \"max_depth\"         : [3,4,6,10],\n",
    "               \"min_samples_split\" : [2, 5, 20,50] }\n",
    "grid_search = GridSearchCV(rf, param_grid=param_grid)\n",
    "start = time()\n",
    "grid_search.fit(X_train, y_train)\n",
    "print(\"GridSearchCV took %.2f seconds for %d candidate parameter settings.\"\n",
    "      % (time() - start, len(grid_search.cv_results_['params'])))\n"
   ]
  },
  {
   "cell_type": "code",
   "execution_count": 127,
   "metadata": {},
   "outputs": [
    {
     "name": "stdout",
     "output_type": "stream",
     "text": [
      "{'max_depth': 10, 'max_features': 0.8, 'min_samples_split': 2, 'n_estimators': 360}\n"
     ]
    }
   ],
   "source": [
    "print (grid_search.best_params_)\n",
    "# XGBoost'colsample_bytree': 0.9, 'gamma': 0.5, 'max_depth': 6, 'min_child_weight': 5, 'subsample': 0.6\n",
    "# RF {'max_depth': 10, 'max_features': 0.8, 'min_samples_split': 2, 'n_estimators': 360}"
   ]
  },
  {
   "cell_type": "code",
   "execution_count": 157,
   "metadata": {},
   "outputs": [
    {
     "name": "stdout",
     "output_type": "stream",
     "text": [
      "[ 0.4899934   0.40949601  0.32392383] 0.407804412054  score for XGBoost\n",
      "[ 0.60522737  0.51773506  0.41731464] 0.513425692765  score for RF\n"
     ]
    }
   ],
   "source": [
    "from sklearn.ensemble import RandomForestRegressor\n",
    "from sklearn.ensemble import GradientBoostingRegressor\n",
    "import xgboost as xg\n",
    "from sklearn import svm\n",
    "\n",
    "regressors = []\n",
    "rf = RandomForestRegressor(max_depth=10, max_features=0.8, min_samples_split=2, n_estimators=360)\n",
    "xgr=xg.XGBRegressor(n_estimators=360,max_depth=6,min_child_weight=5,gamma=0.4,colsample_bytree=0.9,subsample=0.5)\n",
    "\n",
    "res,models=cross_val(x_train_main,log_y,xgr,cv=3,do_shuffle=False,loged=True)\n",
    "print(res,res.mean(),' score for XGBoost')\n",
    "\n",
    "res2,models2=cross_val(x_train_main,log_y,rf,cv=3,do_shuffle=False,loged=True)\n",
    "print(res2,res2.mean(),' score for RF')"
   ]
  },
  {
   "cell_type": "code",
   "execution_count": null,
   "metadata": {
    "collapsed": true
   },
   "outputs": [],
   "source": []
  },
  {
   "cell_type": "markdown",
   "metadata": {},
   "source": [
    "# Submit to csv"
   ]
  },
  {
   "cell_type": "code",
   "execution_count": 161,
   "metadata": {
    "collapsed": true
   },
   "outputs": [],
   "source": [
    "from sklearn.ensemble import RandomForestRegressor\n",
    "xgr=xg.XGBRegressor(n_estimators=360,max_depth=6,min_child_weight=5,gamma=0.4,colsample_bytree=0.9,subsample=0.5)\n",
    "xgr.fit(x_train_main,log_y)\n",
    "pred_y =xgr.predict(x_test_main)\n",
    "submit_y = np.expm1(pred_y)\n",
    "\n"
   ]
  },
  {
   "cell_type": "code",
   "execution_count": 162,
   "metadata": {},
   "outputs": [
    {
     "data": {
      "text/html": [
       "<div>\n",
       "<style>\n",
       "    .dataframe thead tr:only-child th {\n",
       "        text-align: right;\n",
       "    }\n",
       "\n",
       "    .dataframe thead th {\n",
       "        text-align: left;\n",
       "    }\n",
       "\n",
       "    .dataframe tbody tr th {\n",
       "        vertical-align: top;\n",
       "    }\n",
       "</style>\n",
       "<table border=\"1\" class=\"dataframe\">\n",
       "  <thead>\n",
       "    <tr style=\"text-align: right;\">\n",
       "      <th></th>\n",
       "      <th>datetime</th>\n",
       "      <th>count</th>\n",
       "    </tr>\n",
       "  </thead>\n",
       "  <tbody>\n",
       "    <tr>\n",
       "      <th>0</th>\n",
       "      <td>2011-01-20 00:00:00</td>\n",
       "      <td>11.272060</td>\n",
       "    </tr>\n",
       "    <tr>\n",
       "      <th>1</th>\n",
       "      <td>2011-01-20 01:00:00</td>\n",
       "      <td>4.793510</td>\n",
       "    </tr>\n",
       "    <tr>\n",
       "      <th>2</th>\n",
       "      <td>2011-01-20 02:00:00</td>\n",
       "      <td>3.027211</td>\n",
       "    </tr>\n",
       "    <tr>\n",
       "      <th>3</th>\n",
       "      <td>2011-01-20 03:00:00</td>\n",
       "      <td>1.830152</td>\n",
       "    </tr>\n",
       "    <tr>\n",
       "      <th>4</th>\n",
       "      <td>2011-01-20 04:00:00</td>\n",
       "      <td>1.459649</td>\n",
       "    </tr>\n",
       "  </tbody>\n",
       "</table>\n",
       "</div>"
      ],
      "text/plain": [
       "              datetime      count\n",
       "0  2011-01-20 00:00:00  11.272060\n",
       "1  2011-01-20 01:00:00   4.793510\n",
       "2  2011-01-20 02:00:00   3.027211\n",
       "3  2011-01-20 03:00:00   1.830152\n",
       "4  2011-01-20 04:00:00   1.459649"
      ]
     },
     "execution_count": 162,
     "metadata": {},
     "output_type": "execute_result"
    }
   ],
   "source": [
    "\n",
    "\n",
    "submit_ex = pd.read_csv('sampleSubmission.csv',header=0)\n",
    "submit_ex['count'] = submit_y.astype(np.float32)\n",
    "submit_ex.to_csv('submit.csv',index=False)\n",
    "submit_ex.head(5)"
   ]
  },
  {
   "cell_type": "markdown",
   "metadata": {
    "collapsed": true
   },
   "source": [
    "## Last submited scores:"
   ]
  },
  {
   "cell_type": "code",
   "execution_count": 146,
   "metadata": {},
   "outputs": [
    {
     "name": "stdout",
     "output_type": "stream",
     "text": [
      "1) 0.48759  1384's place\n",
      "2) 0.41674  420's place ~ top  12.92  %\n",
      "3) 0.41485  382's place ~ top  11.75  %\n"
     ]
    }
   ],
   "source": [
    "print('1)',0.48759,' 1384\\'s place')#Rforest\n",
    "print('2)',0.41674,' 420\\'s place ~ top ',np.round(420*100/3252,2), ' %')#XGboost\n",
    "print('3)',0.41485,' 382\\'s place ~ top ',np.round(382*100/3252,2), ' %')"
   ]
  }
 ],
 "metadata": {
  "kernelspec": {
   "display_name": "Python 3",
   "language": "python",
   "name": "python3"
  },
  "language_info": {
   "codemirror_mode": {
    "name": "ipython",
    "version": 3
   },
   "file_extension": ".py",
   "mimetype": "text/x-python",
   "name": "python",
   "nbconvert_exporter": "python",
   "pygments_lexer": "ipython3",
   "version": "3.6.3"
  }
 },
 "nbformat": 4,
 "nbformat_minor": 2
}
